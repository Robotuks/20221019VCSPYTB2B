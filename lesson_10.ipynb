{
 "cells": [
  {
   "cell_type": "code",
   "execution_count": 5,
   "metadata": {},
   "outputs": [],
   "source": [
    "# class definition\n",
    "class Car:\n",
    "    def __init__(self, brand, year, color):\n",
    "        self.brand = brand\n",
    "        self.year = year\n",
    "        self.color = color\n",
    "\n",
    "        self.engine_status = False\n",
    "        self.oil_level = 0.0\n",
    "        self.MAX_OIL_LEVEL = 3.2\n",
    "\n",
    "    def __str__(self) -> str:\n",
    "        return f'Brand: {self.brand}, year: {self.year}, color: {self.color}'\n",
    "\n",
    "    def start_engine(self):\n",
    "        if self.engine_status == False:\n",
    "            self.engine_status = True\n",
    "\n",
    "    def stop_engine(self):\n",
    "        if self.engine_status == True:\n",
    "            self.engine_status = False\n",
    "\n",
    "    def add_oil(self, oil_amount):\n",
    "        if self.oil_level + oil_amount > self.MAX_OIL_LEVEL:\n",
    "            self.oil_level = self.MAX_OIL_LEVEL\n",
    "        else:\n",
    "            self.oil_level += oil_amount\n"
   ]
  },
  {
   "cell_type": "code",
   "execution_count": 8,
   "metadata": {},
   "outputs": [
    {
     "name": "stdout",
     "output_type": "stream",
     "text": [
      "car_1\n",
      "engine status: False\n",
      "Brand: BMW, year: 2006, color: black\n",
      "engine status: True\n",
      "oil level: 0.0\n",
      "oil level: 1.5\n",
      "oil level: 3.2\n",
      "car_2\n",
      "oil level: 0.0\n",
      "oil level: 2.3\n",
      "Brand: Tesla, year: 2015, color: Silver\n"
     ]
    }
   ],
   "source": [
    "# creation of class instances\n",
    "car_1 = Car('BMW', 2006, 'black')\n",
    "print('car_1')\n",
    "print('engine status:', car_1.engine_status)\n",
    "print (car_1)\n",
    "car_1.start_engine()\n",
    "print('engine status:', car_1.engine_status)\n",
    "print('oil level:', car_1.oil_level)\n",
    "car_1.add_oil(1.5)\n",
    "print('oil level:', car_1.oil_level)\n",
    "car_1.add_oil(3)\n",
    "print('oil level:', car_1.oil_level)\n",
    "# print (car_1.brand )\n",
    "# print (car_1.year )\n",
    "# print (car_1.color )\n",
    "\n",
    "car_2 = Car('Tesla', 2015, 'Silver')\n",
    "print('car_2')\n",
    "print('oil level:', car_2.oil_level)\n",
    "car_2.add_oil(2.3)\n",
    "print('oil level:', car_2.oil_level)\n",
    "\n",
    "print (car_2)\n",
    "# print (car_2.brand )\n",
    "# print (car_2.year )\n",
    "# print (car_2.color )"
   ]
  },
  {
   "cell_type": "code",
   "execution_count": 15,
   "metadata": {},
   "outputs": [],
   "source": [
    "class Pipe:\n",
    "    def __init__(self):\n",
    "        pass\n",
    "\n",
    "    def cross_section(self):\n",
    "        raise NotImplementedError\n",
    "\n",
    "    def flow_rate(self, velocity):\n",
    "        return self.cross_section() * velocity\n",
    "\n",
    "    def __ge__(self, other_pipe):\n",
    "        return self.flow_rate(1) >= other_pipe.flow_rate(1)\n",
    "\n",
    "    def __eq__(self, other_pipe):\n",
    "        return self.flow_rate(1) == other_pipe.flow_rate(1)\n",
    "    \n",
    "    def __le__(self, other_pipe):\n",
    "        return self.flow_rate(1) <= other_pipe.flow_rate(1)\n",
    "    \n",
    "    def __lt__(self, other_pipe):\n",
    "        return self.flow_rate(1) < other_pipe.flow_rate(1)"
   ]
  },
  {
   "cell_type": "code",
   "execution_count": 16,
   "metadata": {},
   "outputs": [],
   "source": [
    "class RoundPipe(Pipe):\n",
    "    def __init__(self, radius):\n",
    "        super().__init__()\n",
    "        self.radius = radius\n",
    "\n",
    "    def cross_section(self):\n",
    "        return 3.14 * self.radius ** 2"
   ]
  },
  {
   "cell_type": "code",
   "execution_count": 17,
   "metadata": {},
   "outputs": [],
   "source": [
    "class SquarePipe(Pipe):\n",
    "    def __init__(self, width, height):\n",
    "        super().__init__()\n",
    "        self.width = width\n",
    "        self.height = height\n",
    "\n",
    "    def cross_section(self):\n",
    "        return self.width * self.height"
   ]
  },
  {
   "cell_type": "code",
   "execution_count": 18,
   "metadata": {},
   "outputs": [
    {
     "name": "stdout",
     "output_type": "stream",
     "text": [
      "round pipe 1 flow rate: 14.13\n",
      "round pipe 2 flow rate: 13.8474\n"
     ]
    }
   ],
   "source": [
    "round_pipe_1 = RoundPipe(1.5)\n",
    "print ('round pipe 1 flow rate:', round_pipe_1.flow_rate(2) )\n",
    "round_pipe_2 = RoundPipe(2.1)\n",
    "print ('round pipe 2 flow rate:', round_pipe_2.flow_rate(1) )"
   ]
  },
  {
   "cell_type": "code",
   "execution_count": 23,
   "metadata": {},
   "outputs": [
    {
     "name": "stdout",
     "output_type": "stream",
     "text": [
      "square pipe 1 flow rate: 3.5999999999999996\n",
      "square pipe 1 flow rate: 1.7999999999999998\n",
      "square pipe 2 flow rate: 2.3100000000000005\n"
     ]
    }
   ],
   "source": [
    "square_pipe_1 = SquarePipe(1.2, 1.5)\n",
    "print ('square pipe 1 flow rate:', square_pipe_1.flow_rate(2) )\n",
    "print ('square pipe 1 flow rate:', square_pipe_1.flow_rate(1) )\n",
    "square_pipe_2 = SquarePipe(1.1, 2.1)\n",
    "print ('square pipe 2 flow rate:', square_pipe_2.flow_rate(1) )"
   ]
  },
  {
   "cell_type": "code",
   "execution_count": 24,
   "metadata": {},
   "outputs": [
    {
     "name": "stdout",
     "output_type": "stream",
     "text": [
      "True\n",
      "False\n"
     ]
    }
   ],
   "source": [
    "print (round_pipe_1 > square_pipe_1 )\n",
    "print (square_pipe_2 < square_pipe_1 )"
   ]
  },
  {
   "cell_type": "code",
   "execution_count": 28,
   "metadata": {},
   "outputs": [],
   "source": [
    "class ClientAccount:\n",
    "    def __init__(self, name, balance = 0.0) -> None:\n",
    "        self.name = name\n",
    "        self.balance = balance\n",
    "        \n",
    "    def add_money(self, amount):\n",
    "        self.balance += amount\n",
    "\n",
    "    def widraw_money(self, amount):\n",
    "        self.balance -= amount\n",
    "\n",
    "    def __repr__(self) -> str:\n",
    "        return f'Client {self.name} with a balance: {self.balance}'"
   ]
  },
  {
   "cell_type": "code",
   "execution_count": 37,
   "metadata": {},
   "outputs": [],
   "source": [
    "class ATM:\n",
    "    def __init__(self) -> None:\n",
    "        \n",
    "        self.balance = 1000.0\n",
    "\n",
    "    def add_money(self, client: ClientAccount, amount):\n",
    "        client.add_money(amount)\n",
    "        self.balance += amount\n",
    "\n",
    "    def windraw_money(self, client: ClientAccount, amount):\n",
    "        if client.balance >= amount:\n",
    "            if self.balance >= amount:\n",
    "                self.balance -= amount\n",
    "                client.widraw_money(amount)\n",
    "            else:\n",
    "                print('ATM machine does not have sufficient amount to widraw. Try using another ATM machine.')\n",
    "        else:\n",
    "            print(f'Client {client.name} does not have sufficient amount in their account.')\n",
    "\n",
    "    def __repr__(self) -> str:\n",
    "        return f'ATM balance: {self.balance}'"
   ]
  },
  {
   "cell_type": "code",
   "execution_count": 38,
   "metadata": {},
   "outputs": [
    {
     "name": "stdout",
     "output_type": "stream",
     "text": [
      "Client Tom with a balance: 1500.0\n",
      "Client Bob with a balance: 500.0\n",
      "ATM balance: 1000.0\n",
      "Tom adding money\n",
      "ATM balance: 1300.0\n",
      "Client Tom with a balance: 1800.0\n",
      "Tom taking money\n",
      "ATM balance: 900.0\n",
      "Client Tom with a balance: 1400.0\n",
      "Bob taking money\n",
      "Client Bob does not have sufficient amout in their account.\n",
      "ATM balance: 900.0\n",
      "Client Bob with a balance: 500.0\n"
     ]
    }
   ],
   "source": [
    "client_1 = ClientAccount('Tom', 1500.)\n",
    "client_2 = ClientAccount('Bob', 500.)\n",
    "atm_1 = ATM()\n",
    "\n",
    "print (client_1)\n",
    "print (client_2)\n",
    "print (atm_1)\n",
    "\n",
    "print(f'{client_1.name} adding money')\n",
    "atm_1.add_money(client_1, 300)\n",
    "print(atm_1)\n",
    "print(client_1)\n",
    "\n",
    "print(f'{client_1.name} taking money')\n",
    "atm_1.windraw_money(client_1, 400)\n",
    "print(atm_1)\n",
    "print(client_1)\n",
    "\n",
    "print(f'{client_2.name} taking money')\n",
    "atm_1.windraw_money(client_2, 700)\n",
    "print(atm_1)\n",
    "print(client_2)"
   ]
  },
  {
   "cell_type": "code",
   "execution_count": null,
   "metadata": {},
   "outputs": [],
   "source": []
  }
 ],
 "metadata": {
  "kernelspec": {
   "display_name": "Python 3.10.2 64-bit",
   "language": "python",
   "name": "python3"
  },
  "language_info": {
   "codemirror_mode": {
    "name": "ipython",
    "version": 3
   },
   "file_extension": ".py",
   "mimetype": "text/x-python",
   "name": "python",
   "nbconvert_exporter": "python",
   "pygments_lexer": "ipython3",
   "version": "3.10.2"
  },
  "orig_nbformat": 4,
  "vscode": {
   "interpreter": {
    "hash": "db50a459ab6695ace3368e8957af3456c8c93e92d9fe6c38987133d01669da40"
   }
  }
 },
 "nbformat": 4,
 "nbformat_minor": 2
}
