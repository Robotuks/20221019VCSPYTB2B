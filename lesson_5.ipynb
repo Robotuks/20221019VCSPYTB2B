{
 "cells": [
  {
   "cell_type": "markdown",
   "metadata": {},
   "source": [
    "# Homework"
   ]
  },
  {
   "cell_type": "markdown",
   "metadata": {},
   "source": [
    "1.  Make a loop which goes from 1 to 20 and print numbers which are divisible by 3 without a remainder using if statement"
   ]
  },
  {
   "cell_type": "code",
   "execution_count": 1,
   "metadata": {},
   "outputs": [
    {
     "name": "stdout",
     "output_type": "stream",
     "text": [
      "3\n",
      "6\n",
      "9\n",
      "12\n",
      "15\n",
      "18\n"
     ]
    }
   ],
   "source": [
    "for number in range(1,21):\n",
    "    if number % 3 == 0:\n",
    "        print (number)"
   ]
  },
  {
   "cell_type": "markdown",
   "metadata": {},
   "source": [
    "2. Make a loop which goes from 1 to 50  and add them together only if the new current amount is even\n"
   ]
  },
  {
   "cell_type": "code",
   "execution_count": 2,
   "metadata": {},
   "outputs": [
    {
     "name": "stdout",
     "output_type": "stream",
     "text": [
      "2\n",
      "6\n",
      "12\n",
      "20\n",
      "30\n",
      "42\n",
      "56\n",
      "72\n",
      "90\n",
      "110\n",
      "132\n",
      "156\n",
      "182\n",
      "210\n",
      "240\n",
      "272\n",
      "306\n",
      "342\n",
      "380\n",
      "420\n",
      "462\n",
      "506\n",
      "552\n",
      "600\n",
      "650\n",
      "final: 650\n"
     ]
    }
   ],
   "source": [
    "my_sum = 0\n",
    "for number in range(1,51):\n",
    "    if (my_sum + number) % 2 == 0:\n",
    "        my_sum += number # my_sum = my_sum + number\n",
    "        print (my_sum)\n",
    "\n",
    "print ('final:', my_sum)"
   ]
  },
  {
   "cell_type": "markdown",
   "metadata": {},
   "source": [
    "3. Get all possible combinations from these lists only if the day is either Monday or Wednesday and the hours are from 12 to 17. Add them into the list"
   ]
  },
  {
   "cell_type": "code",
   "execution_count": 3,
   "metadata": {},
   "outputs": [
    {
     "name": "stdout",
     "output_type": "stream",
     "text": [
      "[('Monday', 12), ('Monday', 13), ('Monday', 14), ('Monday', 15), ('Monday', 16), ('Monday', 17), ('Wednesday', 12), ('Wednesday', 13), ('Wednesday', 14), ('Wednesday', 15), ('Wednesday', 16), ('Wednesday', 17)]\n"
     ]
    }
   ],
   "source": [
    "days = ('Monday', 'Tuesday', 'Wednesday', 'Thursday', 'Friday', 'Saturday' , 'Sunday')\n",
    "hours = [10, 11, 12, 13, 14, 15, 16, 17, 18, 19]\n",
    "\n",
    "valid_days = ['Monday', 'Wednesday']\n",
    "valid_hours = list(range(12,18) )\n",
    "\n",
    "combinations = []\n",
    "for day in days:\n",
    "    # if day == 'Monday' or day == 'Wednesday':\n",
    "    if day in valid_days:\n",
    "        for hour in hours:\n",
    "            if hour in valid_hours:\n",
    "                combinations.append( (day, hour) )\n",
    "\n",
    "print (combinations)"
   ]
  },
  {
   "cell_type": "markdown",
   "metadata": {},
   "source": [
    "4. Make a loop which goes from 1 to  100, if the number is divisible by 2 without a residue, print ‘Fizz’, if the number is divisible by 3 without a residue, print ‘Buzz’, if the number is divisible by 2 and 3 without a residue, print ‘FizzBuzz’"
   ]
  },
  {
   "cell_type": "code",
   "execution_count": null,
   "metadata": {},
   "outputs": [],
   "source": [
    "for i in range(1,101):\n",
    "    # if i % 2 == 0:\n",
    "    #     print (f'{i} - Fizz')\n",
    "    # elif i % 3 == 0:\n",
    "    #     print (f'{i} - Buzz')\n",
    "    # elif i % 2 == 0 and i % 3 == 0:\n",
    "    #     print (f'{i} - FizzBuzz')\n",
    "    if i % 2 == 0 and i % 3 == 0:\n",
    "        print (f'{i} - FizzBuzz')\n",
    "    elif i % 2 == 0:\n",
    "        print (f'{i} - Fizz')\n",
    "    elif i % 3 == 0:\n",
    "        print (f'{i} - Buzz')\n",
    "    "
   ]
  },
  {
   "cell_type": "code",
   "execution_count": null,
   "metadata": {},
   "outputs": [],
   "source": [
    "for i in range(1,101):\n",
    "    result = ''\n",
    "    if i % 2 == 0:\n",
    "        result += 'Fizz'\n",
    "    if i % 3 == 0:\n",
    "        result += 'Buzz'\n",
    "    print (f'{i} - {result}')"
   ]
  },
  {
   "cell_type": "markdown",
   "metadata": {},
   "source": [
    "5. What is the length of a list made up of combinations of lists provided if we want to find all possible values? Sort the list from highest to lowest"
   ]
  },
  {
   "cell_type": "code",
   "execution_count": 12,
   "metadata": {},
   "outputs": [
    {
     "name": "stdout",
     "output_type": "stream",
     "text": [
      "[('1', 'hi', 10), ('1', 'evening', 10), ('1', 'what a beautiful day', 10), ('1', 'weather', 10), ('1', '10 degrees outside', 10), ('2', 'hi', 10), ('2', 'evening', 10), ('2', 'what a beautiful day', 10), ('2', 'weather', 10), ('2', '10 degrees outside', 10), ('3', 'hi', 10), ('3', 'evening', 10), ('3', 'what a beautiful day', 10), ('3', 'weather', 10), ('3', '10 degrees outside', 10), ('4', 'hi', 10), ('4', 'evening', 10), ('4', 'what a beautiful day', 10), ('4', 'weather', 10), ('4', '10 degrees outside', 10), ('5', 'hi', 10), ('5', 'evening', 10), ('5', 'what a beautiful day', 10), ('5', 'weather', 10), ('5', '10 degrees outside', 10), ('1', 'hi', 40), ('1', 'evening', 40), ('1', 'what a beautiful day', 40), ('1', 'weather', 40), ('1', '10 degrees outside', 40), ('2', 'hi', 40), ('2', 'evening', 40), ('2', 'what a beautiful day', 40), ('2', 'weather', 40), ('2', '10 degrees outside', 40), ('3', 'hi', 40), ('3', 'evening', 40), ('3', 'what a beautiful day', 40), ('3', 'weather', 40), ('3', '10 degrees outside', 40), ('4', 'hi', 40), ('4', 'evening', 40), ('4', 'what a beautiful day', 40), ('4', 'weather', 40), ('4', '10 degrees outside', 40), ('5', 'hi', 40), ('5', 'evening', 40), ('5', 'what a beautiful day', 40), ('5', 'weather', 40), ('5', '10 degrees outside', 40), ('1', 'hi', 100), ('1', 'evening', 100), ('1', 'what a beautiful day', 100), ('1', 'weather', 100), ('1', '10 degrees outside', 100), ('2', 'hi', 100), ('2', 'evening', 100), ('2', 'what a beautiful day', 100), ('2', 'weather', 100), ('2', '10 degrees outside', 100), ('3', 'hi', 100), ('3', 'evening', 100), ('3', 'what a beautiful day', 100), ('3', 'weather', 100), ('3', '10 degrees outside', 100), ('4', 'hi', 100), ('4', 'evening', 100), ('4', 'what a beautiful day', 100), ('4', 'weather', 100), ('4', '10 degrees outside', 100), ('5', 'hi', 100), ('5', 'evening', 100), ('5', 'what a beautiful day', 100), ('5', 'weather', 100), ('5', '10 degrees outside', 100), ('1', 'hi', 200), ('1', 'evening', 200), ('1', 'what a beautiful day', 200), ('1', 'weather', 200), ('1', '10 degrees outside', 200), ('2', 'hi', 200), ('2', 'evening', 200), ('2', 'what a beautiful day', 200), ('2', 'weather', 200), ('2', '10 degrees outside', 200), ('3', 'hi', 200), ('3', 'evening', 200), ('3', 'what a beautiful day', 200), ('3', 'weather', 200), ('3', '10 degrees outside', 200), ('4', 'hi', 200), ('4', 'evening', 200), ('4', 'what a beautiful day', 200), ('4', 'weather', 200), ('4', '10 degrees outside', 200), ('5', 'hi', 200), ('5', 'evening', 200), ('5', 'what a beautiful day', 200), ('5', 'weather', 200), ('5', '10 degrees outside', 200)]\n",
      "[('1', 'hi', 200), ('1', 'evening', 200), ('1', 'what a beautiful day', 200), ('1', 'weather', 200), ('1', '10 degrees outside', 200), ('2', 'hi', 200), ('2', 'evening', 200), ('2', 'what a beautiful day', 200), ('2', 'weather', 200), ('2', '10 degrees outside', 200), ('3', 'hi', 200), ('3', 'evening', 200), ('3', 'what a beautiful day', 200), ('3', 'weather', 200), ('3', '10 degrees outside', 200), ('4', 'hi', 200), ('4', 'evening', 200), ('4', 'what a beautiful day', 200), ('4', 'weather', 200), ('4', '10 degrees outside', 200), ('5', 'hi', 200), ('5', 'evening', 200), ('5', 'what a beautiful day', 200), ('5', 'weather', 200), ('5', '10 degrees outside', 200), ('1', 'hi', 100), ('1', 'evening', 100), ('1', 'what a beautiful day', 100), ('1', 'weather', 100), ('1', '10 degrees outside', 100), ('2', 'hi', 100), ('2', 'evening', 100), ('2', 'what a beautiful day', 100), ('2', 'weather', 100), ('2', '10 degrees outside', 100), ('3', 'hi', 100), ('3', 'evening', 100), ('3', 'what a beautiful day', 100), ('3', 'weather', 100), ('3', '10 degrees outside', 100), ('4', 'hi', 100), ('4', 'evening', 100), ('4', 'what a beautiful day', 100), ('4', 'weather', 100), ('4', '10 degrees outside', 100), ('5', 'hi', 100), ('5', 'evening', 100), ('5', 'what a beautiful day', 100), ('5', 'weather', 100), ('5', '10 degrees outside', 100), ('1', 'hi', 40), ('1', 'evening', 40), ('1', 'what a beautiful day', 40), ('1', 'weather', 40), ('1', '10 degrees outside', 40), ('2', 'hi', 40), ('2', 'evening', 40), ('2', 'what a beautiful day', 40), ('2', 'weather', 40), ('2', '10 degrees outside', 40), ('3', 'hi', 40), ('3', 'evening', 40), ('3', 'what a beautiful day', 40), ('3', 'weather', 40), ('3', '10 degrees outside', 40), ('4', 'hi', 40), ('4', 'evening', 40), ('4', 'what a beautiful day', 40), ('4', 'weather', 40), ('4', '10 degrees outside', 40), ('5', 'hi', 40), ('5', 'evening', 40), ('5', 'what a beautiful day', 40), ('5', 'weather', 40), ('5', '10 degrees outside', 40), ('1', 'hi', 10), ('1', 'evening', 10), ('1', 'what a beautiful day', 10), ('1', 'weather', 10), ('1', '10 degrees outside', 10), ('2', 'hi', 10), ('2', 'evening', 10), ('2', 'what a beautiful day', 10), ('2', 'weather', 10), ('2', '10 degrees outside', 10), ('3', 'hi', 10), ('3', 'evening', 10), ('3', 'what a beautiful day', 10), ('3', 'weather', 10), ('3', '10 degrees outside', 10), ('4', 'hi', 10), ('4', 'evening', 10), ('4', 'what a beautiful day', 10), ('4', 'weather', 10), ('4', '10 degrees outside', 10), ('5', 'hi', 10), ('5', 'evening', 10), ('5', 'what a beautiful day', 10), ('5', 'weather', 10), ('5', '10 degrees outside', 10)]\n"
     ]
    }
   ],
   "source": [
    "a = ['1','2','3','4','5']\n",
    "b = ['hi', 'evening', 'what a beautiful day', 'weather', '10 degrees outside']\n",
    "c = ['100', '200', 40, 10]\n",
    "\n",
    "c[0] = int(c[0])\n",
    "c[1] = int(c[1])\n",
    "\n",
    "combinations = []\n",
    "for i in a:\n",
    "    for o in b:\n",
    "        for p in c:\n",
    "            combinations.append( (i,o,p) )\n",
    "\n",
    "print (sorted(combinations, key=lambda x: x[-1] ) )\n",
    "print (sorted(combinations, key=lambda x: x[-1], reverse=True ) )"
   ]
  },
  {
   "cell_type": "markdown",
   "metadata": {},
   "source": [
    "# List comprehension"
   ]
  },
  {
   "cell_type": "code",
   "execution_count": 14,
   "metadata": {},
   "outputs": [
    {
     "name": "stdout",
     "output_type": "stream",
     "text": [
      "[3, 6, 9, 12, 15, 18]\n"
     ]
    }
   ],
   "source": [
    "my_list = []\n",
    "for number in range(1,21):\n",
    "    if number % 3 == 0:\n",
    "        my_list.append(number)\n",
    "\n",
    "print(my_list)"
   ]
  },
  {
   "cell_type": "code",
   "execution_count": 21,
   "metadata": {},
   "outputs": [
    {
     "name": "stdout",
     "output_type": "stream",
     "text": [
      "[3, 6, 9, 12, 15, 18]\n",
      "[6, 12, 18, 24, 30, 36]\n",
      "[1, 4, 9, 16, 25, 36, 49, 64, 81, 100, 121, 144, 169, 196, 225, 256, 289, 324, 361, 400]\n",
      "[0, 0, 3, 0, 0, 6, 0, 0, 9, 0, 0, 12, 0, 0, 15, 0, 0, 18, 0, 0]\n",
      "[-1, 10, -2, 20, -3, 30, -4, 40, -5, 50, -6, 60, -7, 70, -8, 80, -9, 90, -10, 100, -11, 110, -12, 120, -13, 130, -14, 140, -15, 150, -16, 160, -17, 170, -18, 180, -19, 190, -20, 200]\n"
     ]
    }
   ],
   "source": [
    "my_list = [number for number in range(1,21) if number % 3 == 0 ]\n",
    "print (my_list)\n",
    "my_list = [number * 2 for number in range(1,21) if number % 3 == 0 ]\n",
    "print (my_list)\n",
    "my_list = [number ** 2 for number in range(1,21)  ]\n",
    "print (my_list)\n",
    "my_list = [number if number % 3 == 0 else 0 for number in range(1,21) ]\n",
    "print (my_list)\n",
    "# my_list = [number if number % 3 == 0  for number in range(1,21) ]\n",
    "# print (my_list)\n",
    "my_list = [number * number_2 for number in range(1,21) for number_2 in [-1, 10] ]\n",
    "print (my_list)"
   ]
  },
  {
   "cell_type": "code",
   "execution_count": 22,
   "metadata": {},
   "outputs": [
    {
     "name": "stdout",
     "output_type": "stream",
     "text": [
      "The Zen of Python, by Tim Peters\n",
      "\n",
      "Beautiful is better than ugly.\n",
      "Explicit is better than implicit.\n",
      "Simple is better than complex.\n",
      "Complex is better than complicated.\n",
      "Flat is better than nested.\n",
      "Sparse is better than dense.\n",
      "Readability counts.\n",
      "Special cases aren't special enough to break the rules.\n",
      "Although practicality beats purity.\n",
      "Errors should never pass silently.\n",
      "Unless explicitly silenced.\n",
      "In the face of ambiguity, refuse the temptation to guess.\n",
      "There should be one-- and preferably only one --obvious way to do it.\n",
      "Although that way may not be obvious at first unless you're Dutch.\n",
      "Now is better than never.\n",
      "Although never is often better than *right* now.\n",
      "If the implementation is hard to explain, it's a bad idea.\n",
      "If the implementation is easy to explain, it may be a good idea.\n",
      "Namespaces are one honking great idea -- let's do more of those!\n"
     ]
    }
   ],
   "source": [
    "import this"
   ]
  },
  {
   "cell_type": "markdown",
   "metadata": {},
   "source": [
    "# None a.k.a null, nill, NaN - Not a Number"
   ]
  },
  {
   "cell_type": "code",
   "execution_count": 24,
   "metadata": {},
   "outputs": [
    {
     "name": "stdout",
     "output_type": "stream",
     "text": [
      "None\n",
      "<class 'NoneType'>\n"
     ]
    }
   ],
   "source": [
    "my_none = None\n",
    "print (my_none)\n",
    "print (type(my_none) )"
   ]
  },
  {
   "cell_type": "code",
   "execution_count": 27,
   "metadata": {},
   "outputs": [
    {
     "name": "stdout",
     "output_type": "stream",
     "text": [
      "my_none has no value yet 0\n",
      "received input is Darius\n",
      "received input is Darius\n",
      "received input is Darius\n",
      "received input is Darius\n"
     ]
    }
   ],
   "source": [
    "my_none = None\n",
    "for i in range(5):\n",
    "    if my_none is None:\n",
    "        print(f'my_none has no value yet {i}')\n",
    "        user_intput = input('enter your name:')\n",
    "        if user_intput != '':\n",
    "            my_none = user_intput\n",
    "    else:\n",
    "        print (f'received input is {my_none}')"
   ]
  },
  {
   "cell_type": "code",
   "execution_count": null,
   "metadata": {},
   "outputs": [],
   "source": []
  },
  {
   "cell_type": "markdown",
   "metadata": {},
   "source": [
    "# Dictionary"
   ]
  },
  {
   "cell_type": "code",
   "execution_count": 28,
   "metadata": {},
   "outputs": [],
   "source": [
    "me = {\n",
    "    'name': 'Darius',\n",
    "    'surname': 'Grigaliunas',\n",
    "    'hobbies': ['tennis', 'games']\n",
    "}"
   ]
  },
  {
   "cell_type": "code",
   "execution_count": 31,
   "metadata": {},
   "outputs": [
    {
     "name": "stdout",
     "output_type": "stream",
     "text": [
      "{'name': 'Darius', 'surname': 'Grigaliunas', 'hobbies': ['tennis', 'games']}\n",
      "Darius\n",
      "['tennis', 'games']\n"
     ]
    }
   ],
   "source": [
    "print (me)\n",
    "print (me['name'])\n",
    "print (me['hobbies'])"
   ]
  },
  {
   "cell_type": "code",
   "execution_count": 38,
   "metadata": {},
   "outputs": [
    {
     "name": "stdout",
     "output_type": "stream",
     "text": [
      "{'name': 'Darius', 'surname': 'Grigaliunas', 'hobbies': ['tennis', 'games'], 'age': 27, 5: 'five', True: 'this is true'}\n",
      "{'name': 'Darius', 'surname': 'Grigaliunas', 'hobbies': ['tennis', 'games'], 'age': 27, 5: 'five', True: 'this is true'}\n",
      "five\n",
      "{'name': 'Darius', 'surname': 'Grigaliunas', 'hobbies': ['tennis', 'games'], 'age': 27, 5: 'five', True: 'this is true'}\n",
      "this is true\n",
      "{'name': 'Darius', 'surname': 'Grigaliunas', 'hobbies': ['tennis', 'games'], 'age': 20, 5: 'five', True: 'this is true'}\n"
     ]
    }
   ],
   "source": [
    "me['age'] = 27\n",
    "print (me)\n",
    "me[5] = 'five'\n",
    "print (me)\n",
    "print (me[5])\n",
    "me[True] = 'this is true'\n",
    "print (me)\n",
    "print (me[True])\n",
    "me['age'] = 20\n",
    "print (me)"
   ]
  },
  {
   "cell_type": "code",
   "execution_count": 39,
   "metadata": {},
   "outputs": [
    {
     "name": "stdout",
     "output_type": "stream",
     "text": [
      "<class 'dict'>\n"
     ]
    }
   ],
   "source": [
    "print (type(me) )"
   ]
  },
  {
   "cell_type": "code",
   "execution_count": 40,
   "metadata": {},
   "outputs": [
    {
     "ename": "KeyError",
     "evalue": "0",
     "output_type": "error",
     "traceback": [
      "\u001b[1;31m---------------------------------------------------------------------------\u001b[0m",
      "\u001b[1;31mKeyError\u001b[0m                                  Traceback (most recent call last)",
      "\u001b[1;32mc:\\Users\\Robotux\\Documents\\Python\\20221019VCSPYTB2B\\lesson_5.ipynb Cell 26\u001b[0m in \u001b[0;36m<module>\u001b[1;34m\u001b[0m\n\u001b[1;32m----> <a href='vscode-notebook-cell:/c%3A/Users/Robotux/Documents/Python/20221019VCSPYTB2B/lesson_5.ipynb#X35sZmlsZQ%3D%3D?line=0'>1</a>\u001b[0m \u001b[39mprint\u001b[39m (me[\u001b[39m0\u001b[39;49m])\n",
      "\u001b[1;31mKeyError\u001b[0m: 0"
     ]
    }
   ],
   "source": [
    "print (me[0])"
   ]
  },
  {
   "cell_type": "code",
   "execution_count": 41,
   "metadata": {},
   "outputs": [
    {
     "ename": "KeyError",
     "evalue": "'non_existing_key'",
     "output_type": "error",
     "traceback": [
      "\u001b[1;31m---------------------------------------------------------------------------\u001b[0m",
      "\u001b[1;31mKeyError\u001b[0m                                  Traceback (most recent call last)",
      "\u001b[1;32mc:\\Users\\Robotux\\Documents\\Python\\20221019VCSPYTB2B\\lesson_5.ipynb Cell 27\u001b[0m in \u001b[0;36m<module>\u001b[1;34m\u001b[0m\n\u001b[1;32m----> <a href='vscode-notebook-cell:/c%3A/Users/Robotux/Documents/Python/20221019VCSPYTB2B/lesson_5.ipynb#X36sZmlsZQ%3D%3D?line=0'>1</a>\u001b[0m \u001b[39mprint\u001b[39m (me[\u001b[39m'\u001b[39;49m\u001b[39mnon_existing_key\u001b[39;49m\u001b[39m'\u001b[39;49m])\n",
      "\u001b[1;31mKeyError\u001b[0m: 'non_existing_key'"
     ]
    }
   ],
   "source": [
    "print (me['non_existing_key'])"
   ]
  },
  {
   "cell_type": "markdown",
   "metadata": {},
   "source": [
    "## Dict are mutable. Be careful"
   ]
  },
  {
   "cell_type": "markdown",
   "metadata": {},
   "source": [
    "## Dict methods"
   ]
  },
  {
   "cell_type": "code",
   "execution_count": 43,
   "metadata": {},
   "outputs": [
    {
     "name": "stdout",
     "output_type": "stream",
     "text": [
      "{'name': 'Darius', 'surname': 'Grigaliunas', 'hobbies': ['tennis', 'games'], 'age': 20, 5: 'five', True: 'this is true'}\n",
      "{'name': 'Darius', 'surname': 'Grigaliunas', 'hobbies': ['tennis', 'games'], 'age': 20, True: 'this is true'}\n"
     ]
    }
   ],
   "source": [
    "# me.clear()\n",
    "me[5] = 'five'\n",
    "print(me)\n",
    "del me[5]\n",
    "print(me)"
   ]
  },
  {
   "cell_type": "code",
   "execution_count": 44,
   "metadata": {},
   "outputs": [
    {
     "name": "stdout",
     "output_type": "stream",
     "text": [
      "{'name': 'Darius', 'surname': 'Grigaliunas', 'hobbies': ['tennis', 'games'], 'age': 20, True: 'this is true', 5: 'five'}\n",
      "five\n",
      "{'name': 'Darius', 'surname': 'Grigaliunas', 'hobbies': ['tennis', 'games'], 'age': 20, True: 'this is true'}\n"
     ]
    }
   ],
   "source": [
    "me[5] = 'five'\n",
    "print(me)\n",
    "print(me.pop(5) )\n",
    "print(me)"
   ]
  },
  {
   "cell_type": "code",
   "execution_count": 45,
   "metadata": {},
   "outputs": [
    {
     "name": "stdout",
     "output_type": "stream",
     "text": [
      "{'name': 'Darius', 'surname': 'Grigaliunas', 'hobbies': ['tennis', 'games'], 'age': 20, True: 'this is true', 5: 'five'}\n",
      "(5, 'five')\n",
      "{'name': 'Darius', 'surname': 'Grigaliunas', 'hobbies': ['tennis', 'games'], 'age': 20, True: 'this is true'}\n"
     ]
    }
   ],
   "source": [
    "me[5] = 'five'\n",
    "print(me)\n",
    "print(me.popitem() )\n",
    "print(me)"
   ]
  },
  {
   "cell_type": "code",
   "execution_count": null,
   "metadata": {},
   "outputs": [],
   "source": [
    "# me.copy() # better use deepcopy"
   ]
  },
  {
   "cell_type": "code",
   "execution_count": 50,
   "metadata": {},
   "outputs": [
    {
     "name": "stdout",
     "output_type": "stream",
     "text": [
      "Darius\n",
      "Name not found\n",
      "Darius\n"
     ]
    }
   ],
   "source": [
    "print(me['name'])\n",
    "# print(me['Name'])\n",
    "print(me.get('Name', 'Name not found'))\n",
    "print(me.get('name', 'Name not found'))"
   ]
  },
  {
   "cell_type": "code",
   "execution_count": 52,
   "metadata": {},
   "outputs": [
    {
     "name": "stdout",
     "output_type": "stream",
     "text": [
      "{'name': 'Darius', 'surname': 'Grigaliunas', 'hobbies': ['tennis', 'games'], 'age': 20, True: 'this is true'}\n",
      "{'name': 'Darius', 'surname': 'Grigaliunas', 'hobbies': ['tennis', 'games', 'riding bike'], 'age': 21, True: 'this is true', 'car': 'Tesla'}\n"
     ]
    }
   ],
   "source": [
    "print (me)\n",
    "update_dict = { 'age': 21, 'hobbies': ['tennis', 'games', 'riding bike'], 'car': 'Tesla' }\n",
    "me.update( update_dict )\n",
    "print (me)"
   ]
  },
  {
   "cell_type": "code",
   "execution_count": 56,
   "metadata": {},
   "outputs": [
    {
     "name": "stdout",
     "output_type": "stream",
     "text": [
      "key is name with the value of Darius\n",
      "key is surname with the value of Grigaliunas\n",
      "key is hobbies with the value of ['tennis', 'games', 'riding bike']\n",
      "key is age with the value of 21\n",
      "key is True with the value of this is true\n",
      "key is car with the value of Tesla\n"
     ]
    }
   ],
   "source": [
    "for key in me:\n",
    "    # print(key)\n",
    "    print (f'key is {key} with the value of {me[key]}')"
   ]
  },
  {
   "cell_type": "code",
   "execution_count": 57,
   "metadata": {},
   "outputs": [
    {
     "name": "stdout",
     "output_type": "stream",
     "text": [
      "key is name with the value of Darius\n",
      "key is surname with the value of Grigaliunas\n",
      "key is hobbies with the value of ['tennis', 'games', 'riding bike']\n",
      "key is age with the value of 21\n",
      "key is True with the value of this is true\n",
      "key is car with the value of Tesla\n"
     ]
    }
   ],
   "source": [
    "for key in me.keys():\n",
    "    print (f'key is {key} with the value of {me[key]}')"
   ]
  },
  {
   "cell_type": "code",
   "execution_count": 58,
   "metadata": {},
   "outputs": [
    {
     "name": "stdout",
     "output_type": "stream",
     "text": [
      "Darius\n",
      "Grigaliunas\n",
      "['tennis', 'games', 'riding bike']\n",
      "21\n",
      "this is true\n",
      "Tesla\n"
     ]
    }
   ],
   "source": [
    "for value in me.values():\n",
    "    print (value)"
   ]
  },
  {
   "cell_type": "code",
   "execution_count": 59,
   "metadata": {},
   "outputs": [
    {
     "name": "stdout",
     "output_type": "stream",
     "text": [
      "key is name with the value of Darius\n",
      "key is surname with the value of Grigaliunas\n",
      "key is hobbies with the value of ['tennis', 'games', 'riding bike']\n",
      "key is age with the value of 21\n",
      "key is True with the value of this is true\n",
      "key is car with the value of Tesla\n"
     ]
    }
   ],
   "source": [
    "# for key, value in me.items():\n",
    "for k, v in me.items():\n",
    "    print (f'key is {k} with the value of {v}')"
   ]
  },
  {
   "cell_type": "code",
   "execution_count": 61,
   "metadata": {},
   "outputs": [],
   "source": [
    "twitter_post = {\n",
    "  \"created_at\": \"Tue Feb 27 21:11:40 +0000 2018\",\n",
    "  \"id\": 968594506663669800,\n",
    "  \"id_str\": \"968594506663669760\",\n",
    "  \"text\": \"RT @honeydrop_506: 180222 ICN #백현 #BAEKHYUNnn나의 겨울과 너nn#iHeartAwards #BestFanArmy #EXOL @weareoneEXO https://t.co/hg7I3xAlBg\",\n",
    "  \"truncated\": False,\n",
    "  \"in_reply_to_status_id\": None,\n",
    "  \"in_reply_to_status_id_str\": None,\n",
    "  \"in_reply_to_user_id\": None,\n",
    "  \"in_reply_to_user_id_str\": None,\n",
    "  \"in_reply_to_screen_name\": None,\n",
    "  \"user\": {\n",
    "    \"id\": 4448809940,\n",
    "    \"id_str\": \"4448809940\",\n",
    "    \"name\": \"ayah\",\n",
    "    \"screen_name\": \"lovbyun\",\n",
    "    \"location\": \"bbh iu jjh pcy kjd dks\",\n",
    "    \"url\": \"https://curiouscat.me/baekhyun-l\",\n",
    "    \"description\": \"hi hello I love exo\",\n",
    "    \"translator_type\": \"none\",\n",
    "    \"protected\": False,\n",
    "    \"verified\": False,\n",
    "    \"followers_count\": 1142,\n",
    "    \"friends_count\": 125,\n",
    "    \"listed_count\": 20,\n",
    "    \"favourites_count\": 5712,\n",
    "    \"statuses_count\": 4011,\n",
    "    \"created_at\": \"Fri Dec 04 03:44:59 +0000 2015\",\n",
    "    \"utc_offset\": -28800,\n",
    "    \"time_zone\": \"Pacific Time (US & Canada)\",\n",
    "    \"geo_enabled\": False,\n",
    "    \"lang\": \"en\",\n",
    "    \"contributors_enabled\": False,\n",
    "    \"is_translator\": False,\n",
    "    \"profile_background_color\": \"000000\",\n",
    "    \"profile_background_image_url\": \"http://abs.twimg.com/images/themes/theme1/bg.png\",\n",
    "    \"profile_background_image_url_https\": \"https://abs.twimg.com/images/themes/theme1/bg.png\",\n",
    "    \"profile_background_tile\": False,\n",
    "    \"profile_link_color\": \"F58EA8\",\n",
    "    \"profile_sidebar_border_color\": \"000000\",\n",
    "    \"profile_sidebar_fill_color\": \"000000\",\n",
    "    \"profile_text_color\": \"000000\",\n",
    "    \"profile_use_background_image\": False,\n",
    "    \"profile_image_url\": \"http://pbs.twimg.com/profile_images/967130320259526656/0xZ-wxXJ_normal.jpg\",\n",
    "    \"profile_image_url_https\": \"https://pbs.twimg.com/profile_images/967130320259526656/0xZ-wxXJ_normal.jpg\",\n",
    "    \"profile_banner_url\": \"https://pbs.twimg.com/profile_banners/4448809940/1519340670\",\n",
    "    \"default_profile\": False,\n",
    "    \"default_profile_image\": False,\n",
    "    \"following\": None,\n",
    "    \"follow_request_sent\": None,\n",
    "    \"notifications\": None\n",
    "  },\n",
    "}"
   ]
  },
  {
   "cell_type": "code",
   "execution_count": 63,
   "metadata": {},
   "outputs": [
    {
     "data": {
      "text/plain": [
       "'ayah'"
      ]
     },
     "execution_count": 63,
     "metadata": {},
     "output_type": "execute_result"
    }
   ],
   "source": [
    "twitter_post['user']['name']"
   ]
  },
  {
   "cell_type": "code",
   "execution_count": 67,
   "metadata": {},
   "outputs": [
    {
     "name": "stdout",
     "output_type": "stream",
     "text": [
      "True\n",
      "False\n",
      "True\n",
      "False\n"
     ]
    }
   ],
   "source": [
    "print ('name' in me)\n",
    "print ('Name' in me)\n",
    "\n",
    "print ('Darius' in me.values())\n",
    "print ('Tomas' in me.values())"
   ]
  },
  {
   "cell_type": "code",
   "execution_count": 68,
   "metadata": {},
   "outputs": [
    {
     "name": "stdout",
     "output_type": "stream",
     "text": [
      "Ford\n",
      "3\n",
      "2020\n",
      "{'brand': 'Ford', 'model': 'Mustang', 'year': 2020, 'color': 'red', 'used': True}\n",
      "{'model': 'Mustang', 'year': 2020, 'color': 'red', 'used': True}\n",
      "{'model': 'Mustang', 'year': None, 'color': 'red', 'used': True}\n"
     ]
    }
   ],
   "source": [
    "car ={\n",
    "  \"brand\": \"Ford\",\n",
    "  \"model\": \"Mustang\",\n",
    "  \"year\": 1964\n",
    "}\n",
    "\n",
    "print(car['brand'])\n",
    "print(len(car))\n",
    "car['year']=2020\n",
    "print(car['year'])\n",
    "\n",
    "car['color']= 'red'\n",
    "car['used'] = True\n",
    "car.update( {'color': 'red', 'used': True} )\n",
    "print(car)\n",
    "\n",
    "car.pop('brand')\n",
    "print(car)\n",
    "car['year']=None\n",
    "print(car)\n"
   ]
  },
  {
   "cell_type": "markdown",
   "metadata": {},
   "source": [
    "# Sets"
   ]
  },
  {
   "cell_type": "code",
   "execution_count": 71,
   "metadata": {},
   "outputs": [
    {
     "name": "stdout",
     "output_type": "stream",
     "text": [
      "{1, 2, 3, 100, 'b', 'a'}\n",
      "{1, 100}\n"
     ]
    }
   ],
   "source": [
    "my_set = { 100,1,1,1,1,2,3,'a', 'b' }\n",
    "my_set_2 = set( [100,1,1,1] )\n",
    "print (my_set)\n",
    "print (my_set_2)"
   ]
  },
  {
   "cell_type": "code",
   "execution_count": 72,
   "metadata": {},
   "outputs": [
    {
     "ename": "TypeError",
     "evalue": "'set' object is not subscriptable",
     "output_type": "error",
     "traceback": [
      "\u001b[1;31m---------------------------------------------------------------------------\u001b[0m",
      "\u001b[1;31mTypeError\u001b[0m                                 Traceback (most recent call last)",
      "\u001b[1;32mc:\\Users\\Robotux\\Documents\\Python\\20221019VCSPYTB2B\\lesson_5.ipynb Cell 46\u001b[0m in \u001b[0;36m<module>\u001b[1;34m\u001b[0m\n\u001b[1;32m----> <a href='vscode-notebook-cell:/c%3A/Users/Robotux/Documents/Python/20221019VCSPYTB2B/lesson_5.ipynb#X65sZmlsZQ%3D%3D?line=0'>1</a>\u001b[0m my_set[\u001b[39m0\u001b[39;49m]\n",
      "\u001b[1;31mTypeError\u001b[0m: 'set' object is not subscriptable"
     ]
    }
   ],
   "source": [
    "my_set[0]"
   ]
  },
  {
   "cell_type": "code",
   "execution_count": 76,
   "metadata": {},
   "outputs": [
    {
     "name": "stdout",
     "output_type": "stream",
     "text": [
      "True\n",
      "True\n",
      "False\n",
      "6\n"
     ]
    }
   ],
   "source": [
    "print( 1 in my_set)\n",
    "print( 'a' in my_set)\n",
    "print( 0 in my_set)\n",
    "print( len(my_set))"
   ]
  },
  {
   "cell_type": "code",
   "execution_count": 82,
   "metadata": {},
   "outputs": [
    {
     "name": "stdout",
     "output_type": "stream",
     "text": [
      "{1, 2, 3, 100, 'b', 'a', 5}\n",
      "{1, 2, 3, 100, 'b', 'a', 5}\n",
      "{1, 2, 3, 100, 'b', 'a', 5, (10, 1)}\n",
      "{1, 2, 3, 'b', 5, 200, 'a', 100, (10, 1), 300}\n"
     ]
    }
   ],
   "source": [
    "my_set = { 100,1,1,1,1,2,3,'a', 'b' }\n",
    "my_set.add(5)\n",
    "print(my_set)\n",
    "my_set.add(5)\n",
    "print(my_set)\n",
    "my_set.add( (10,1) )\n",
    "print(my_set)\n",
    "\n",
    "my_set.update( [200,300,300] )\n",
    "print(my_set)\n"
   ]
  },
  {
   "cell_type": "code",
   "execution_count": 87,
   "metadata": {},
   "outputs": [
    {
     "name": "stdout",
     "output_type": "stream",
     "text": [
      "{1, 2, 3, 'b', 5, 200, 'a', 100, (10, 1), 300}\n",
      "{1, 2, 3, 'b', 200, 'a', 100, (10, 1), 300}\n",
      "{1, 2, 3, 'b', 200, 'a', 100, 300}\n"
     ]
    }
   ],
   "source": [
    "my_set.add(5)\n",
    "print(my_set)\n",
    "my_set.remove(5)\n",
    "print(my_set)\n",
    "# my_set.remove(5) # error\n",
    "my_set.discard( (10, 1) )\n",
    "my_set.discard( (10, 1) )\n",
    "my_set.discard( (10, 1) )\n",
    "print(my_set)"
   ]
  },
  {
   "cell_type": "code",
   "execution_count": 91,
   "metadata": {},
   "outputs": [
    {
     "name": "stdout",
     "output_type": "stream",
     "text": [
      "{1, 2, 3, 4, 5, 6, 9, 10}\n",
      "{1, 4}\n",
      "{10, 9, 2, 3}\n",
      "{5, 6}\n"
     ]
    }
   ],
   "source": [
    "my_set = { 1,4,5,6 }\n",
    "my_set_2 = { 2, 3, 5,6, 9,10 }\n",
    "\n",
    "print( my_set.union(my_set_2) )\n",
    "print( my_set.difference(my_set_2) )\n",
    "print( my_set_2.difference(my_set) )\n",
    "print( my_set.intersection(my_set_2)  )\n",
    "my_set."
   ]
  },
  {
   "cell_type": "code",
   "execution_count": 93,
   "metadata": {},
   "outputs": [
    {
     "name": "stdout",
     "output_type": "stream",
     "text": [
      "True\n",
      "False\n"
     ]
    }
   ],
   "source": [
    "my_set = { 1,2,3,4,5,6 }\n",
    "my_set_2 = { 3, 5 }\n",
    "my_set_3 = { 5,6, 7 }\n",
    "\n",
    "print( my_set.issuperset(my_set_2) )\n",
    "print( my_set.issuperset(my_set_3) )"
   ]
  },
  {
   "cell_type": "markdown",
   "metadata": {},
   "source": [
    "# "
   ]
  }
 ],
 "metadata": {
  "kernelspec": {
   "display_name": "Python 3.10.2 64-bit",
   "language": "python",
   "name": "python3"
  },
  "language_info": {
   "codemirror_mode": {
    "name": "ipython",
    "version": 3
   },
   "file_extension": ".py",
   "mimetype": "text/x-python",
   "name": "python",
   "nbconvert_exporter": "python",
   "pygments_lexer": "ipython3",
   "version": "3.10.2"
  },
  "orig_nbformat": 4,
  "vscode": {
   "interpreter": {
    "hash": "db50a459ab6695ace3368e8957af3456c8c93e92d9fe6c38987133d01669da40"
   }
  }
 },
 "nbformat": 4,
 "nbformat_minor": 2
}
