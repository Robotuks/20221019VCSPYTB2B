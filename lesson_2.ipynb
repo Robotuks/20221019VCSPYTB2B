{
 "cells": [
  {
   "cell_type": "code",
   "execution_count": 8,
   "metadata": {},
   "outputs": [],
   "source": [
    "text = \"What a beautiful day\""
   ]
  },
  {
   "cell_type": "code",
   "execution_count": 9,
   "metadata": {},
   "outputs": [
    {
     "data": {
      "text/plain": [
       "1"
      ]
     },
     "execution_count": 9,
     "metadata": {},
     "output_type": "execute_result"
    }
   ],
   "source": [
    "text.count('day')"
   ]
  },
  {
   "cell_type": "code",
   "execution_count": 11,
   "metadata": {},
   "outputs": [
    {
     "data": {
      "text/plain": [
       "'What a terrible day'"
      ]
     },
     "execution_count": 11,
     "metadata": {},
     "output_type": "execute_result"
    }
   ],
   "source": [
    "text.replace('beautiful', 'terrible') # Shift + Enter\n",
    "# Ctrl + a"
   ]
  },
  {
   "cell_type": "code",
   "execution_count": 13,
   "metadata": {},
   "outputs": [
    {
     "data": {
      "text/plain": [
       "49"
      ]
     },
     "execution_count": 13,
     "metadata": {},
     "output_type": "execute_result"
    }
   ],
   "source": [
    "text = \"What a beautiful day What a beautiful day What a Darius beautiful day What a beautiful day What a beautiful day\"\n",
    "text.find('Darius')"
   ]
  },
  {
   "cell_type": "code",
   "execution_count": 17,
   "metadata": {},
   "outputs": [
    {
     "data": {
      "text/plain": [
       "'Darius beautiful day '"
      ]
     },
     "execution_count": 17,
     "metadata": {},
     "output_type": "execute_result"
    }
   ],
   "source": [
    "text[ text.find('Darius'): text.find('What', text.find('Darius') ) ]"
   ]
  },
  {
   "cell_type": "code",
   "execution_count": 23,
   "metadata": {},
   "outputs": [
    {
     "name": "stdout",
     "output_type": "stream",
     "text": [
      "True\n",
      "False\n",
      "False\n"
     ]
    }
   ],
   "source": [
    "text_with_numbers = '6847'\n",
    "\n",
    "print (text_with_numbers.isdigit() )\n",
    "print ('4.5$'.isdigit() )\n",
    "print ('4.5'.isnumeric() )"
   ]
  },
  {
   "cell_type": "code",
   "execution_count": 26,
   "metadata": {},
   "outputs": [
    {
     "name": "stdout",
     "output_type": "stream",
     "text": [
      "hello asdf\n",
      "          hello asdf            \n"
     ]
    }
   ],
   "source": [
    "text = '          hello asdf            '\n",
    "print(text.strip() )\n",
    "print(text)"
   ]
  },
  {
   "cell_type": "code",
   "execution_count": 30,
   "metadata": {},
   "outputs": [
    {
     "name": "stdout",
     "output_type": "stream",
     "text": [
      "Hello asdf\n",
      "HELLO ASDF\n",
      "hello asdf\n"
     ]
    }
   ],
   "source": [
    "text = text.strip()\n",
    "print (text.capitalize() )\n",
    "print (text.upper() )\n",
    "print (text.lower() )"
   ]
  },
  {
   "cell_type": "markdown",
   "metadata": {},
   "source": [
    "## string operations"
   ]
  },
  {
   "cell_type": "code",
   "execution_count": 31,
   "metadata": {},
   "outputs": [
    {
     "data": {
      "text/plain": [
       "<function print>"
      ]
     },
     "execution_count": 31,
     "metadata": {},
     "output_type": "execute_result"
    }
   ],
   "source": [
    "print"
   ]
  },
  {
   "cell_type": "code",
   "execution_count": 32,
   "metadata": {},
   "outputs": [
    {
     "data": {
      "text/plain": [
       "'Hello World'"
      ]
     },
     "execution_count": 32,
     "metadata": {},
     "output_type": "execute_result"
    }
   ],
   "source": [
    "'Hello' + ' World'"
   ]
  },
  {
   "cell_type": "code",
   "execution_count": 33,
   "metadata": {},
   "outputs": [
    {
     "ename": "TypeError",
     "evalue": "unsupported operand type(s) for -: 'str' and 'str'",
     "output_type": "error",
     "traceback": [
      "\u001b[1;31m---------------------------------------------------------------------------\u001b[0m",
      "\u001b[1;31mTypeError\u001b[0m                                 Traceback (most recent call last)",
      "\u001b[1;32mc:\\Users\\Robotux\\Documents\\Python\\20221019VCSPYTB2B\\lesson_2.ipynb Cell 12\u001b[0m in \u001b[0;36m<module>\u001b[1;34m\u001b[0m\n\u001b[1;32m----> <a href='vscode-notebook-cell:/c%3A/Users/Robotux/Documents/Python/20221019VCSPYTB2B/lesson_2.ipynb#X14sZmlsZQ%3D%3D?line=0'>1</a>\u001b[0m \u001b[39m'\u001b[39;49m\u001b[39mHello\u001b[39;49m\u001b[39m'\u001b[39;49m \u001b[39m-\u001b[39;49m \u001b[39m'\u001b[39;49m\u001b[39ml\u001b[39;49m\u001b[39m'\u001b[39;49m\n",
      "\u001b[1;31mTypeError\u001b[0m: unsupported operand type(s) for -: 'str' and 'str'"
     ]
    }
   ],
   "source": [
    "'Hello' - 'l'"
   ]
  },
  {
   "cell_type": "code",
   "execution_count": 34,
   "metadata": {},
   "outputs": [
    {
     "data": {
      "text/plain": [
       "'hi hi hi hi hi hi hi hi hi hi hi hi hi hi hi hi hi hi hi hi hi hi hi hi hi hi hi hi hi hi hi hi hi hi hi hi hi hi hi hi hi hi hi hi hi hi hi hi hi hi hi hi hi hi hi hi hi hi hi hi hi hi hi hi hi hi hi hi hi hi hi hi hi hi hi hi hi hi hi hi hi hi hi hi hi hi hi hi hi hi hi hi hi hi hi hi hi hi hi hi '"
      ]
     },
     "execution_count": 34,
     "metadata": {},
     "output_type": "execute_result"
    }
   ],
   "source": [
    "'hi ' * 100"
   ]
  },
  {
   "cell_type": "code",
   "execution_count": 35,
   "metadata": {},
   "outputs": [
    {
     "ename": "TypeError",
     "evalue": "unsupported operand type(s) for /: 'str' and 'str'",
     "output_type": "error",
     "traceback": [
      "\u001b[1;31m---------------------------------------------------------------------------\u001b[0m",
      "\u001b[1;31mTypeError\u001b[0m                                 Traceback (most recent call last)",
      "\u001b[1;32mc:\\Users\\Robotux\\Documents\\Python\\20221019VCSPYTB2B\\lesson_2.ipynb Cell 14\u001b[0m in \u001b[0;36m<module>\u001b[1;34m\u001b[0m\n\u001b[1;32m----> <a href='vscode-notebook-cell:/c%3A/Users/Robotux/Documents/Python/20221019VCSPYTB2B/lesson_2.ipynb#X16sZmlsZQ%3D%3D?line=0'>1</a>\u001b[0m \u001b[39m'\u001b[39;49m\u001b[39mHello\u001b[39;49m\u001b[39m'\u001b[39;49m \u001b[39m/\u001b[39;49m \u001b[39m'\u001b[39;49m\u001b[39ml\u001b[39;49m\u001b[39m'\u001b[39;49m\n",
      "\u001b[1;31mTypeError\u001b[0m: unsupported operand type(s) for /: 'str' and 'str'"
     ]
    }
   ],
   "source": [
    "'Hello' / 'l'"
   ]
  },
  {
   "cell_type": "markdown",
   "metadata": {},
   "source": [
    "## Formating. f-string"
   ]
  },
  {
   "cell_type": "code",
   "execution_count": 49,
   "metadata": {},
   "outputs": [
    {
     "name": "stdout",
     "output_type": "stream",
     "text": [
      "Hi, my name is Darius Grigaliunas, I am 30 years old.\n",
      "Hi, my name is Darius Grigaliunas, I am 30 years old.\n",
      "f-string\n",
      "Hi, my name is Darius Grigaliunas, I am 30 years old.\n",
      "Hi, my name is Darius Grigaliunas, I am 35 years old.\n",
      "Hi, my name is Darius Grigaliunas, I am 35 years old.\n"
     ]
    }
   ],
   "source": [
    "name = 'Darius'\n",
    "surname = 'Grigaliunas'\n",
    "age = 30\n",
    "\n",
    "print( 'Hi, my name is ' + name + ' ' + surname + ', I am ' + str(age) + ' years old.' )\n",
    "print( 'Hi, my name is', name, surname + ', I am', str(age), 'years old.' )\n",
    "print( 'f-string')\n",
    "print( f'Hi, my name is {name} {surname}, I am {age} years old.' )\n",
    "print( f'Hi, my name is {name} {surname}, I am {age + 5} years old.' )\n",
    "print( f'Hi, my name is { name        } {        surname        }, I am {age + 5} years old.' )"
   ]
  },
  {
   "cell_type": "markdown",
   "metadata": {},
   "source": [
    "# Numbers"
   ]
  },
  {
   "cell_type": "code",
   "execution_count": 58,
   "metadata": {},
   "outputs": [],
   "source": [
    "number = 2\n",
    "\n",
    "float_number = 2349.57\n",
    "float_number_2 = 2349."
   ]
  },
  {
   "cell_type": "code",
   "execution_count": 59,
   "metadata": {},
   "outputs": [
    {
     "name": "stdout",
     "output_type": "stream",
     "text": [
      "<class 'int'>\n",
      "<class 'float'>\n",
      "<class 'float'>\n"
     ]
    }
   ],
   "source": [
    "print( type(number) )\n",
    "print( type(float_number) )\n",
    "print( type(float_number_2) )"
   ]
  },
  {
   "cell_type": "markdown",
   "metadata": {},
   "source": [
    "## operations"
   ]
  },
  {
   "cell_type": "code",
   "execution_count": 69,
   "metadata": {},
   "outputs": [
    {
     "name": "stdout",
     "output_type": "stream",
     "text": [
      "59\n",
      "-55\n",
      "114\n",
      "0.03508771929824561\n",
      "//\n",
      "1\n",
      "2\n",
      "modulus\n",
      "3\n",
      "4\n",
      "4\n"
     ]
    }
   ],
   "source": [
    "print ( number + 57)\n",
    "print ( number - 57)\n",
    "print ( number * 57)\n",
    "print ( number / 57)\n",
    "print ('//')\n",
    "print ( 13 // 10) # get full division part\n",
    "print ( 23 // 10) # get full division part\n",
    "\n",
    "print ('modulus')\n",
    "print ( 13 % 10)\n",
    "print ( 14 % 10)\n",
    "print ( 44 % 10)"
   ]
  },
  {
   "cell_type": "code",
   "execution_count": 73,
   "metadata": {},
   "outputs": [
    {
     "name": "stdout",
     "output_type": "stream",
     "text": [
      "1\n",
      "0\n",
      "1\n",
      "0\n"
     ]
    }
   ],
   "source": [
    "print (1 % 2)\n",
    "print (2 % 2)\n",
    "print (3 % 2)\n",
    "print (4 % 2)"
   ]
  },
  {
   "cell_type": "code",
   "execution_count": 78,
   "metadata": {},
   "outputs": [
    {
     "name": "stdout",
     "output_type": "stream",
     "text": [
      "5\n",
      "6\n",
      "7\n",
      "14\n",
      "4.666666666666667\n"
     ]
    }
   ],
   "source": [
    "c = 5\n",
    "print (c)\n",
    "c = c + 1\n",
    "print (c)\n",
    "c += 1\n",
    "print (c)\n",
    "c *= 2\n",
    "print (c)\n",
    "c /= 3\n",
    "print (c)\n",
    "\n"
   ]
  },
  {
   "cell_type": "code",
   "execution_count": 83,
   "metadata": {},
   "outputs": [
    {
     "name": "stdout",
     "output_type": "stream",
     "text": [
      "9\n",
      "27\n",
      "81\n",
      "256\n"
     ]
    }
   ],
   "source": [
    "print(3 ** 2 )\n",
    "print(3 ** 3 )\n",
    "print(3 ** 4 )\n",
    "print(2 ** 8 )"
   ]
  },
  {
   "cell_type": "code",
   "execution_count": 89,
   "metadata": {},
   "outputs": [
    {
     "name": "stdout",
     "output_type": "stream",
     "text": [
      "Darius Grigaliunas\n"
     ]
    }
   ],
   "source": [
    "name = 'Darius'\n",
    "surname =                                                        \"Grigaliunas\" \n",
    "print( name,          surname)"
   ]
  },
  {
   "cell_type": "code",
   "execution_count": 92,
   "metadata": {},
   "outputs": [
    {
     "name": "stdout",
     "output_type": "stream",
     "text": [
      "PYTHON MAKES ME REALLY REALLY HAPPY!\n",
      "PyThOn makes me really really happy!\n",
      "PyThOn makes me really really happy!\n"
     ]
    }
   ],
   "source": [
    "text = 'Python makes me really really happy!'\n",
    "print( text.upper())\n",
    "print( text.replace('Python', 'PyThOn'))\n",
    "print( text.replace('t', 'T').replace('o', 'O') ) # do not recommend"
   ]
  },
  {
   "cell_type": "code",
   "execution_count": 93,
   "metadata": {},
   "outputs": [
    {
     "data": {
      "text/plain": [
       "['Python', 'makes', 'me', 'really', 'really', 'happy!']"
      ]
     },
     "execution_count": 93,
     "metadata": {},
     "output_type": "execute_result"
    }
   ],
   "source": [
    "text.split()"
   ]
  },
  {
   "cell_type": "code",
   "execution_count": 127,
   "metadata": {},
   "outputs": [
    {
     "name": "stdout",
     "output_type": "stream",
     "text": [
      "hand specified\n",
      " asdf\n",
      "finding it\n",
      "happy\n",
      "to\n",
      "ha\n",
      "46\n"
     ]
    }
   ],
   "source": [
    "text = 'Hello World, I am  asdf happy to learn Python!'\n",
    "# print (len('happy') )\n",
    "# print (text[0:10])\n",
    "print ('hand specified')\n",
    "print (text[18:23])\n",
    "# print (text.find('happy'))\n",
    "print ('finding it')\n",
    "# print ( text[ text.find('happy') : ] )\n",
    "print ( text[ text.find('happy') : text.find('happy') + len('happy') ] )\n",
    "\n",
    "print ( text[ text.find('to') : text.find('to') + len('to') ] )\n",
    "\n",
    "print (text[24:26])\n",
    "print (len(text) )"
   ]
  },
  {
   "cell_type": "markdown",
   "metadata": {},
   "source": [
    "# Bool"
   ]
  },
  {
   "cell_type": "code",
   "execution_count": 131,
   "metadata": {},
   "outputs": [
    {
     "name": "stdout",
     "output_type": "stream",
     "text": [
      "True\n",
      "<class 'bool'>\n",
      "True\n",
      "False\n"
     ]
    }
   ],
   "source": [
    "bool_1 = True\n",
    "bool_2 = False\n",
    "print (bool_1)\n",
    "print (type(bool_1) )\n",
    "number = 23\n",
    "print ( bool(number) )\n",
    "number = 0\n",
    "print ( bool(number) )"
   ]
  },
  {
   "cell_type": "code",
   "execution_count": 133,
   "metadata": {},
   "outputs": [
    {
     "name": "stdout",
     "output_type": "stream",
     "text": [
      "True\n",
      "True\n",
      "False\n"
     ]
    }
   ],
   "source": [
    "number = 0.1\n",
    "print ( bool(number) )\n",
    "number = -0.1\n",
    "print ( bool(number) )\n",
    "# only 0 will be False\n",
    "number = 0.0\n",
    "print ( bool(number) )"
   ]
  },
  {
   "cell_type": "code",
   "execution_count": 136,
   "metadata": {},
   "outputs": [
    {
     "name": "stdout",
     "output_type": "stream",
     "text": [
      "True\n",
      "True\n",
      "False\n"
     ]
    }
   ],
   "source": [
    "text = 'hello'\n",
    "print ( bool(text) )\n",
    "text = ' '\n",
    "print ( bool(text) )\n",
    "# only empty string becomes False\n",
    "text = ''\n",
    "print ( bool(text) )"
   ]
  },
  {
   "cell_type": "code",
   "execution_count": 143,
   "metadata": {},
   "outputs": [
    {
     "name": "stdout",
     "output_type": "stream",
     "text": [
      "True\n",
      "False\n",
      "True\n",
      "True\n",
      "check if equal\n",
      "True\n",
      "False\n",
      "check if NOT equal\n",
      "False\n",
      "True\n"
     ]
    }
   ],
   "source": [
    "print ( 2 > 1)\n",
    "print ( 2 < 1)\n",
    "print ( 2 >= 2)\n",
    "print ( 2 <= 3)\n",
    "print( 'check if equal')\n",
    "print ( 10 == 10)\n",
    "print ( 10 == 5)\n",
    "\n",
    "print( 'check if NOT equal')\n",
    "print ( 10 != 10)\n",
    "print ( 10 != 5)"
   ]
  },
  {
   "cell_type": "code",
   "execution_count": 146,
   "metadata": {},
   "outputs": [
    {
     "name": "stdout",
     "output_type": "stream",
     "text": [
      "True\n",
      "True\n",
      "False\n"
     ]
    }
   ],
   "source": [
    "text = \"hello world\"\n",
    "print ( 'o' in text )\n",
    "print ( 'world' in text )\n",
    "print ( 'World' in text )"
   ]
  },
  {
   "cell_type": "code",
   "execution_count": 149,
   "metadata": {},
   "outputs": [
    {
     "name": "stdout",
     "output_type": "stream",
     "text": [
      "True\n",
      "False\n",
      "True\n"
     ]
    }
   ],
   "source": [
    "print (True)\n",
    "print (not True)\n",
    "print (not not True)"
   ]
  },
  {
   "cell_type": "code",
   "execution_count": 154,
   "metadata": {},
   "outputs": [
    {
     "name": "stdout",
     "output_type": "stream",
     "text": [
      "and\n",
      "True\n",
      "False\n",
      "False\n",
      "or\n",
      "True\n",
      "True\n",
      "False\n"
     ]
    }
   ],
   "source": [
    "print ('and')\n",
    "print ( 5 > 2 and 10 < 20  )\n",
    "print ( 5 > 2 and 10 > 20  )\n",
    "print ( 5 < 2 and 10 > 20  )\n",
    "print ('or')\n",
    "print ( 5 > 2 or 10 < 20  )\n",
    "print ( 5 > 2 or 10 > 20  )\n",
    "print ( 5 < 2 or 10 > 20  )"
   ]
  },
  {
   "cell_type": "code",
   "execution_count": null,
   "metadata": {},
   "outputs": [],
   "source": []
  }
 ],
 "metadata": {
  "kernelspec": {
   "display_name": "Python 3.10.2 64-bit",
   "language": "python",
   "name": "python3"
  },
  "language_info": {
   "codemirror_mode": {
    "name": "ipython",
    "version": 3
   },
   "file_extension": ".py",
   "mimetype": "text/x-python",
   "name": "python",
   "nbconvert_exporter": "python",
   "pygments_lexer": "ipython3",
   "version": "3.10.2"
  },
  "orig_nbformat": 4,
  "vscode": {
   "interpreter": {
    "hash": "db50a459ab6695ace3368e8957af3456c8c93e92d9fe6c38987133d01669da40"
   }
  }
 },
 "nbformat": 4,
 "nbformat_minor": 2
}
