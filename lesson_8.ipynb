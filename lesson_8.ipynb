{
 "cells": [
  {
   "cell_type": "markdown",
   "metadata": {},
   "source": [
    "# Homework"
   ]
  },
  {
   "cell_type": "markdown",
   "metadata": {},
   "source": [
    "Write a function, a password generator, that would accept an int-type variable and return such a long password from lowercase, uppercase, numbers, and characters."
   ]
  },
  {
   "cell_type": "code",
   "execution_count": 15,
   "metadata": {},
   "outputs": [],
   "source": [
    "import random\n",
    "import string\n",
    "\n",
    "def password_generator(length):\n",
    "    characters = string.ascii_letters + string.digits + string.punctuation\n",
    "    picked_chars = [ random.choice(characters) for _ in range(length) ]\n",
    "    # print (picked_chars)\n",
    "    result_str = ''.join( picked_chars )\n",
    "    return result_str"
   ]
  },
  {
   "cell_type": "code",
   "execution_count": 17,
   "metadata": {},
   "outputs": [
    {
     "data": {
      "text/plain": [
       "'?sjWS\\\\E<_'"
      ]
     },
     "execution_count": 17,
     "metadata": {},
     "output_type": "execute_result"
    }
   ],
   "source": [
    "password_generator(9)"
   ]
  },
  {
   "cell_type": "markdown",
   "metadata": {},
   "source": [
    "Write a function that accepts a list and an integer k. The function returns the maximum sum of k neighboring members."
   ]
  },
  {
   "cell_type": "code",
   "execution_count": 26,
   "metadata": {},
   "outputs": [
    {
     "name": "stdout",
     "output_type": "stream",
     "text": [
      "[2, 3, 4]\n",
      "[3, 4, 5]\n",
      "[4, 5, 10]\n",
      "[5, 10, 16]\n",
      "[10, 16, 1]\n",
      "[16, 1, 1]\n",
      "[1, 1, 1000]\n",
      "sums\n",
      "[9, 12, 19, 31, 27, 18, 1002]\n",
      "1002\n"
     ]
    }
   ],
   "source": [
    "def integer_list_1(list_1,k):\n",
    "    res = []\n",
    "    \n",
    "    for idx in range(len(list_1) - k + 1):\n",
    "        print (list_1[idx: idx + k])\n",
    "        res.append( sum( list_1[idx: idx + k ] ) )\n",
    "    print ('sums')\n",
    "    print( res )\n",
    "    return max( res )\n",
    "\n",
    "# print(integer_list_1([2,3,4,5,10,16,1,1],1))\n",
    "# print(integer_list_1([2,3,4,5,10,16,1,1],2))\n",
    "# print(integer_list_1([2,3,4,5,10,16,1,1],3))\n",
    "print(integer_list_1([2,3,4,5,10,16,1,1,1000],3))"
   ]
  },
  {
   "cell_type": "markdown",
   "metadata": {},
   "source": [
    "Write a function that accepts a list and an integer k. The function returns a list of number pairs whose difference is equal to the entered number k. If no such pairs are present, return False."
   ]
  },
  {
   "cell_type": "code",
   "execution_count": 44,
   "metadata": {},
   "outputs": [],
   "source": [
    "def integer_list_2(list_1,k):\n",
    "    res = []\n",
    "    for idx_1 in range( len(list_1) ):\n",
    "\n",
    "        for idx_2 in range( idx_1 + 1, len(list_1) ):\n",
    "            # print(idx_1 ,  idx_2 )\n",
    "            # print(list_1[ idx_1 ], list_1[ idx_2 ])\n",
    "            if abs( list_1[ idx_1 ] - list_1[ idx_2 ] ) == k:\n",
    "                res.append( (list_1[ idx_1 ], list_1[ idx_2 ]) )\n",
    "    if not res:\n",
    "        res = False\n",
    "    return res"
   ]
  },
  {
   "cell_type": "code",
   "execution_count": 45,
   "metadata": {},
   "outputs": [
    {
     "name": "stdout",
     "output_type": "stream",
     "text": [
      "[(-2, 8)]\n"
     ]
    }
   ],
   "source": [
    "# print(integer_list_2([0,2,4,8],4))\n",
    "# print(integer_list_2([0,2,4,8],2))\n",
    "print(integer_list_2([-2,0,2,4,8],10))\n",
    "# print(integer_list_2([-2,0,2,4,8],11))"
   ]
  },
  {
   "cell_type": "code",
   "execution_count": 51,
   "metadata": {},
   "outputs": [
    {
     "name": "stdout",
     "output_type": "stream",
     "text": [
      "1\n",
      "2\n"
     ]
    },
    {
     "ename": "StopIteration",
     "evalue": "",
     "output_type": "error",
     "traceback": [
      "\u001b[1;31m---------------------------------------------------------------------------\u001b[0m",
      "\u001b[1;31mStopIteration\u001b[0m                             Traceback (most recent call last)",
      "\u001b[1;32mc:\\Users\\Robotux\\Documents\\Python\\20221019VCSPYTB2B\\lesson_8.ipynb Cell 10\u001b[0m in \u001b[0;36m<module>\u001b[1;34m\u001b[0m\n\u001b[0;32m      <a href='vscode-notebook-cell:/c%3A/Users/Robotux/Documents/Python/20221019VCSPYTB2B/lesson_8.ipynb#X13sZmlsZQ%3D%3D?line=1'>2</a>\u001b[0m \u001b[39mprint\u001b[39m(\u001b[39mnext\u001b[39m(it) )\n\u001b[0;32m      <a href='vscode-notebook-cell:/c%3A/Users/Robotux/Documents/Python/20221019VCSPYTB2B/lesson_8.ipynb#X13sZmlsZQ%3D%3D?line=2'>3</a>\u001b[0m \u001b[39mprint\u001b[39m(\u001b[39mnext\u001b[39m(it) )\n\u001b[1;32m----> <a href='vscode-notebook-cell:/c%3A/Users/Robotux/Documents/Python/20221019VCSPYTB2B/lesson_8.ipynb#X13sZmlsZQ%3D%3D?line=3'>4</a>\u001b[0m \u001b[39mprint\u001b[39m(\u001b[39mnext\u001b[39;49m(it) )\n",
      "\u001b[1;31mStopIteration\u001b[0m: "
     ]
    }
   ],
   "source": [
    "it = iter( [1,2] )\n",
    "print(next(it) )\n",
    "print(next(it) )\n",
    "print(next(it) )"
   ]
  },
  {
   "cell_type": "markdown",
   "metadata": {},
   "source": [
    "# Raising an error"
   ]
  },
  {
   "cell_type": "code",
   "execution_count": 60,
   "metadata": {},
   "outputs": [],
   "source": [
    "def add_two(a, b):\n",
    "    if not isinstance( a, int ):\n",
    "        raise ValueError('a is not an interger')\n",
    "    if not isinstance( b, int ):\n",
    "        # print ('b is not a number')\n",
    "        raise ValueError('b is not an interger')\n",
    "    return a + b"
   ]
  },
  {
   "cell_type": "code",
   "execution_count": 63,
   "metadata": {},
   "outputs": [
    {
     "ename": "ValueError",
     "evalue": "b is not an interger",
     "output_type": "error",
     "traceback": [
      "\u001b[1;31m---------------------------------------------------------------------------\u001b[0m",
      "\u001b[1;31mValueError\u001b[0m                                Traceback (most recent call last)",
      "\u001b[1;32mc:\\Users\\Robotux\\Documents\\Python\\20221019VCSPYTB2B\\lesson_8.ipynb Cell 13\u001b[0m in \u001b[0;36m<module>\u001b[1;34m\u001b[0m\n\u001b[0;32m      <a href='vscode-notebook-cell:/c%3A/Users/Robotux/Documents/Python/20221019VCSPYTB2B/lesson_8.ipynb#X16sZmlsZQ%3D%3D?line=0'>1</a>\u001b[0m \u001b[39m# add_two(2,5)\u001b[39;00m\n\u001b[1;32m----> <a href='vscode-notebook-cell:/c%3A/Users/Robotux/Documents/Python/20221019VCSPYTB2B/lesson_8.ipynb#X16sZmlsZQ%3D%3D?line=1'>2</a>\u001b[0m add_two(\u001b[39m2\u001b[39;49m,\u001b[39m'\u001b[39;49m\u001b[39m5\u001b[39;49m\u001b[39m'\u001b[39;49m)\n",
      "\u001b[1;32mc:\\Users\\Robotux\\Documents\\Python\\20221019VCSPYTB2B\\lesson_8.ipynb Cell 13\u001b[0m in \u001b[0;36madd_two\u001b[1;34m(a, b)\u001b[0m\n\u001b[0;32m      <a href='vscode-notebook-cell:/c%3A/Users/Robotux/Documents/Python/20221019VCSPYTB2B/lesson_8.ipynb#X16sZmlsZQ%3D%3D?line=2'>3</a>\u001b[0m     \u001b[39mraise\u001b[39;00m \u001b[39mValueError\u001b[39;00m(\u001b[39m'\u001b[39m\u001b[39ma is not an interger\u001b[39m\u001b[39m'\u001b[39m)\n\u001b[0;32m      <a href='vscode-notebook-cell:/c%3A/Users/Robotux/Documents/Python/20221019VCSPYTB2B/lesson_8.ipynb#X16sZmlsZQ%3D%3D?line=3'>4</a>\u001b[0m \u001b[39mif\u001b[39;00m \u001b[39mnot\u001b[39;00m \u001b[39misinstance\u001b[39m( b, \u001b[39mint\u001b[39m ):\n\u001b[0;32m      <a href='vscode-notebook-cell:/c%3A/Users/Robotux/Documents/Python/20221019VCSPYTB2B/lesson_8.ipynb#X16sZmlsZQ%3D%3D?line=4'>5</a>\u001b[0m     \u001b[39m# print ('b is not a number')\u001b[39;00m\n\u001b[1;32m----> <a href='vscode-notebook-cell:/c%3A/Users/Robotux/Documents/Python/20221019VCSPYTB2B/lesson_8.ipynb#X16sZmlsZQ%3D%3D?line=5'>6</a>\u001b[0m     \u001b[39mraise\u001b[39;00m \u001b[39mValueError\u001b[39;00m(\u001b[39m'\u001b[39m\u001b[39mb is not an interger\u001b[39m\u001b[39m'\u001b[39m)\n\u001b[0;32m      <a href='vscode-notebook-cell:/c%3A/Users/Robotux/Documents/Python/20221019VCSPYTB2B/lesson_8.ipynb#X16sZmlsZQ%3D%3D?line=6'>7</a>\u001b[0m \u001b[39mreturn\u001b[39;00m a \u001b[39m+\u001b[39m b\n",
      "\u001b[1;31mValueError\u001b[0m: b is not an interger"
     ]
    }
   ],
   "source": [
    "# add_two(2,5)\n",
    "add_two(2,'5')"
   ]
  },
  {
   "cell_type": "markdown",
   "metadata": {},
   "source": [
    "# Error handling (try/except)"
   ]
  },
  {
   "cell_type": "code",
   "execution_count": 68,
   "metadata": {},
   "outputs": [
    {
     "name": "stdout",
     "output_type": "stream",
     "text": [
      "beginning of try\n",
      "division by zero\n"
     ]
    }
   ],
   "source": [
    "a = 5\n",
    "b = 0\n",
    "\n",
    "# BAD PRACTICE\n",
    "try:\n",
    "    print('beginning of try')\n",
    "    5 + \"5\"\n",
    "    print('after add str to int')\n",
    "    a / b\n",
    "    print('end of try')\n",
    "except: # AVOID THIS\n",
    "    print ('division by zero')"
   ]
  },
  {
   "cell_type": "code",
   "execution_count": 89,
   "metadata": {},
   "outputs": [
    {
     "name": "stdout",
     "output_type": "stream",
     "text": [
      "beginning of try\n",
      "after add str to int\n",
      "always executed\n"
     ]
    },
    {
     "ename": "IndexError",
     "evalue": "list index out of range",
     "output_type": "error",
     "traceback": [
      "\u001b[1;31m---------------------------------------------------------------------------\u001b[0m",
      "\u001b[1;31mIndexError\u001b[0m                                Traceback (most recent call last)",
      "\u001b[1;32mc:\\Users\\Robotux\\Documents\\Python\\20221019VCSPYTB2B\\lesson_8.ipynb Cell 16\u001b[0m in \u001b[0;36m<module>\u001b[1;34m\u001b[0m\n\u001b[0;32m      <a href='vscode-notebook-cell:/c%3A/Users/Robotux/Documents/Python/20221019VCSPYTB2B/lesson_8.ipynb#X21sZmlsZQ%3D%3D?line=7'>8</a>\u001b[0m     \u001b[39mprint\u001b[39m(\u001b[39m'\u001b[39m\u001b[39mafter add str to int\u001b[39m\u001b[39m'\u001b[39m)\n\u001b[0;32m      <a href='vscode-notebook-cell:/c%3A/Users/Robotux/Documents/Python/20221019VCSPYTB2B/lesson_8.ipynb#X21sZmlsZQ%3D%3D?line=8'>9</a>\u001b[0m     \u001b[39m# a / b\u001b[39;00m\n\u001b[1;32m---> <a href='vscode-notebook-cell:/c%3A/Users/Robotux/Documents/Python/20221019VCSPYTB2B/lesson_8.ipynb#X21sZmlsZQ%3D%3D?line=9'>10</a>\u001b[0m     list_1[\u001b[39m3\u001b[39;49m]\n\u001b[0;32m     <a href='vscode-notebook-cell:/c%3A/Users/Robotux/Documents/Python/20221019VCSPYTB2B/lesson_8.ipynb#X21sZmlsZQ%3D%3D?line=10'>11</a>\u001b[0m     \u001b[39mprint\u001b[39m(\u001b[39m'\u001b[39m\u001b[39mend of try\u001b[39m\u001b[39m'\u001b[39m)\n\u001b[0;32m     <a href='vscode-notebook-cell:/c%3A/Users/Robotux/Documents/Python/20221019VCSPYTB2B/lesson_8.ipynb#X21sZmlsZQ%3D%3D?line=11'>12</a>\u001b[0m \u001b[39mexcept\u001b[39;00m \u001b[39mZeroDivisionError\u001b[39;00m:\n",
      "\u001b[1;31mIndexError\u001b[0m: list index out of range"
     ]
    }
   ],
   "source": [
    "a = 5\n",
    "b = 0\n",
    "list_1 = [2]\n",
    "# GOOD PRACTICE\n",
    "try:\n",
    "    print('beginning of try')\n",
    "    # 5 + \"5\"\n",
    "    print('after add str to int')\n",
    "    # a / b\n",
    "    list_1[3]\n",
    "    print('end of try')\n",
    "except ZeroDivisionError: # DO THIS\n",
    "    print ('division by zero')\n",
    "except TypeError: # DO THIS\n",
    "    print ('type error occured')\n",
    "finally:\n",
    "    print ('always executed')\n",
    "\n",
    "print ('after try/except')"
   ]
  },
  {
   "cell_type": "code",
   "execution_count": 74,
   "metadata": {},
   "outputs": [
    {
     "name": "stdout",
     "output_type": "stream",
     "text": [
      "The Zen of Python, by Tim Peters\n",
      "\n",
      "Beautiful is better than ugly.\n",
      "Explicit is better than implicit.\n",
      "Simple is better than complex.\n",
      "Complex is better than complicated.\n",
      "Flat is better than nested.\n",
      "Sparse is better than dense.\n",
      "Readability counts.\n",
      "Special cases aren't special enough to break the rules.\n",
      "Although practicality beats purity.\n",
      "Errors should never pass silently.\n",
      "Unless explicitly silenced.\n",
      "In the face of ambiguity, refuse the temptation to guess.\n",
      "There should be one-- and preferably only one --obvious way to do it.\n",
      "Although that way may not be obvious at first unless you're Dutch.\n",
      "Now is better than never.\n",
      "Although never is often better than *right* now.\n",
      "If the implementation is hard to explain, it's a bad idea.\n",
      "If the implementation is easy to explain, it may be a good idea.\n",
      "Namespaces are one honking great idea -- let's do more of those!\n"
     ]
    }
   ],
   "source": [
    "import this"
   ]
  },
  {
   "cell_type": "markdown",
   "metadata": {},
   "source": [
    "## fixing errors"
   ]
  },
  {
   "cell_type": "code",
   "execution_count": 81,
   "metadata": {},
   "outputs": [
    {
     "name": "stdout",
     "output_type": "stream",
     "text": [
      "2.5\n"
     ]
    }
   ],
   "source": [
    "a = 5\n",
    "b = 2\n",
    "\n",
    "# c = a / b\n",
    "\n",
    "if b != 0:\n",
    "    c = a / b\n",
    "else:\n",
    "    c = False\n",
    "\n",
    "print( c )\n"
   ]
  },
  {
   "cell_type": "markdown",
   "metadata": {},
   "source": [
    "# Standard libraries"
   ]
  },
  {
   "cell_type": "markdown",
   "metadata": {},
   "source": [
    "## OS library"
   ]
  },
  {
   "cell_type": "code",
   "execution_count": 90,
   "metadata": {},
   "outputs": [],
   "source": [
    "import os "
   ]
  },
  {
   "cell_type": "code",
   "execution_count": 91,
   "metadata": {},
   "outputs": [
    {
     "data": {
      "text/plain": [
       "'c:\\\\Users\\\\Robotux\\\\Documents\\\\Python\\\\20221019VCSPYTB2B'"
      ]
     },
     "execution_count": 91,
     "metadata": {},
     "output_type": "execute_result"
    }
   ],
   "source": [
    "os.getcwd() # current working directory"
   ]
  },
  {
   "cell_type": "code",
   "execution_count": 99,
   "metadata": {},
   "outputs": [
    {
     "name": "stdout",
     "output_type": "stream",
     "text": [
      "\n",
      "\n",
      "\n",
      "\n",
      "\n",
      "c:\\Users\\Robotux\\Documents\\Python\\20221019VCSPYTB2B\n",
      "/Users/Robotux/Documents/Python/20221019VCSPYTB2B\n"
     ]
    }
   ],
   "source": [
    "# 'c:\\Users\\Robotux\\Documents\\Python\\20221019VCSPYTB2B'\n",
    "print ('\\n\\n\\n\\n')\n",
    "print ( 'c:\\\\Users\\\\Robotux\\\\Documents\\\\Python\\\\20221019VCSPYTB2B')\n",
    "print ( '/Users/Robotux/Documents/Python/20221019VCSPYTB2B')"
   ]
  },
  {
   "cell_type": "code",
   "execution_count": 102,
   "metadata": {},
   "outputs": [
    {
     "name": "stdout",
     "output_type": "stream",
     "text": [
      "c:\\Users\\Robotux\\Documents\n",
      "c:\\Users\\Robotux\\Documents\\Python\\20221019VCSPYTB2B\n"
     ]
    }
   ],
   "source": [
    "# Absolute path\n",
    "os.chdir( 'c:/Users/Robotux/Documents' )\n",
    "print (os.getcwd())\n",
    "os.chdir( 'c:/Users/Robotux/Documents/Python/20221019VCSPYTB2B' )\n",
    "print (os.getcwd())"
   ]
  },
  {
   "cell_type": "code",
   "execution_count": 104,
   "metadata": {},
   "outputs": [
    {
     "name": "stdout",
     "output_type": "stream",
     "text": [
      "c:\\Users\\Robotux\\Documents\n",
      "c:\\Users\\Robotux\\Documents\\Python\\20221019VCSPYTB2B\n"
     ]
    }
   ],
   "source": [
    "# Relative path\n",
    "os.chdir( '../../' )\n",
    "print (os.getcwd())\n",
    "os.chdir( './Python/20221019VCSPYTB2B' )\n",
    "print (os.getcwd())"
   ]
  },
  {
   "cell_type": "code",
   "execution_count": 107,
   "metadata": {},
   "outputs": [
    {
     "name": "stdout",
     "output_type": "stream",
     "text": [
      "['.git', '.gitignore', 'lesson_1.ipynb', 'lesson_2.ipynb', 'lesson_3.ipynb', 'lesson_4.ipynb', 'lesson_5.ipynb', 'lesson_6.ipynb', 'lesson_7.ipynb', 'lesson_8.ipynb', 'README.md']\n",
      "['-20220329VCSMALB2B', '20211109VCSPYTB2B', '20220105VCSDMAVAK', '20220111VCSPYTVAK', '20220830VCSPYTVAK', '20221019VCSPYTB2B', 'Capture.PNG', 'Capture_2.PNG', 'neg_pred.png', 'sql.mwb', 'tmp.ipynb']\n"
     ]
    }
   ],
   "source": [
    "print (os.listdir() )\n",
    "print (os.listdir('c:/Users/Robotux/Documents/Python') )"
   ]
  },
  {
   "cell_type": "code",
   "execution_count": 110,
   "metadata": {},
   "outputs": [
    {
     "ename": "FileNotFoundError",
     "evalue": "[WinError 3] The system cannot find the path specified: 'test_folder_2/nested_foler'",
     "output_type": "error",
     "traceback": [
      "\u001b[1;31m---------------------------------------------------------------------------\u001b[0m",
      "\u001b[1;31mFileNotFoundError\u001b[0m                         Traceback (most recent call last)",
      "\u001b[1;32mc:\\Users\\Robotux\\Documents\\Python\\20221019VCSPYTB2B\\lesson_8.ipynb Cell 28\u001b[0m in \u001b[0;36m<module>\u001b[1;34m\u001b[0m\n\u001b[0;32m      <a href='vscode-notebook-cell:/c%3A/Users/Robotux/Documents/Python/20221019VCSPYTB2B/lesson_8.ipynb#X43sZmlsZQ%3D%3D?line=0'>1</a>\u001b[0m \u001b[39m# os.mkdir('test_folder')\u001b[39;00m\n\u001b[1;32m----> <a href='vscode-notebook-cell:/c%3A/Users/Robotux/Documents/Python/20221019VCSPYTB2B/lesson_8.ipynb#X43sZmlsZQ%3D%3D?line=1'>2</a>\u001b[0m os\u001b[39m.\u001b[39;49mmkdir(\u001b[39m'\u001b[39;49m\u001b[39mtest_folder_2/nested_foler\u001b[39;49m\u001b[39m'\u001b[39;49m)\n",
      "\u001b[1;31mFileNotFoundError\u001b[0m: [WinError 3] The system cannot find the path specified: 'test_folder_2/nested_foler'"
     ]
    }
   ],
   "source": [
    "# os.mkdir('test_folder')\n",
    "os.mkdir('test_folder_2/nested_foler') # error if 1st folder doesn't exist"
   ]
  },
  {
   "cell_type": "code",
   "execution_count": 125,
   "metadata": {},
   "outputs": [],
   "source": [
    "# os.makedirs('test_folder_2/nested_foler_1/nested_folder_2' ) # error if exists\n",
    "os.makedirs('test_folder_2/nested_foler_1/nested_folder_2', exist_ok=True )"
   ]
  },
  {
   "cell_type": "code",
   "execution_count": 128,
   "metadata": {},
   "outputs": [
    {
     "ename": "OSError",
     "evalue": "[WinError 145] The directory is not empty: 'test_folder_2'",
     "output_type": "error",
     "traceback": [
      "\u001b[1;31m---------------------------------------------------------------------------\u001b[0m",
      "\u001b[1;31mOSError\u001b[0m                                   Traceback (most recent call last)",
      "\u001b[1;32mc:\\Users\\Robotux\\Documents\\Python\\20221019VCSPYTB2B\\lesson_8.ipynb Cell 30\u001b[0m in \u001b[0;36m<module>\u001b[1;34m\u001b[0m\n\u001b[0;32m      <a href='vscode-notebook-cell:/c%3A/Users/Robotux/Documents/Python/20221019VCSPYTB2B/lesson_8.ipynb#X45sZmlsZQ%3D%3D?line=0'>1</a>\u001b[0m \u001b[39m# os.rmdir('test_folder') # error if not exist\u001b[39;00m\n\u001b[1;32m----> <a href='vscode-notebook-cell:/c%3A/Users/Robotux/Documents/Python/20221019VCSPYTB2B/lesson_8.ipynb#X45sZmlsZQ%3D%3D?line=1'>2</a>\u001b[0m os\u001b[39m.\u001b[39;49mrmdir(\u001b[39m'\u001b[39;49m\u001b[39mtest_folder_2\u001b[39;49m\u001b[39m'\u001b[39;49m)\n",
      "\u001b[1;31mOSError\u001b[0m: [WinError 145] The directory is not empty: 'test_folder_2'"
     ]
    }
   ],
   "source": [
    "# DELETE ONLY EMPTY FOLDERS\n",
    "# os.rmdir('test_folder') # error if not exist\n",
    "os.rmdir('test_folder_2')"
   ]
  },
  {
   "cell_type": "code",
   "execution_count": 130,
   "metadata": {},
   "outputs": [],
   "source": [
    "os.removedirs('test_folder_2/nested_foler_1/nested_folder_2')"
   ]
  },
  {
   "cell_type": "code",
   "execution_count": 132,
   "metadata": {},
   "outputs": [
    {
     "name": "stdout",
     "output_type": "stream",
     "text": [
      "file is open\n",
      "file is closed\n",
      "file content: Hello world!!!\n"
     ]
    },
    {
     "ename": "ValueError",
     "evalue": "I/O operation on closed file.",
     "output_type": "error",
     "traceback": [
      "\u001b[1;31m---------------------------------------------------------------------------\u001b[0m",
      "\u001b[1;31mValueError\u001b[0m                                Traceback (most recent call last)",
      "\u001b[1;32mc:\\Users\\Robotux\\Documents\\Python\\20221019VCSPYTB2B\\lesson_8.ipynb Cell 32\u001b[0m in \u001b[0;36m<module>\u001b[1;34m\u001b[0m\n\u001b[0;32m      <a href='vscode-notebook-cell:/c%3A/Users/Robotux/Documents/Python/20221019VCSPYTB2B/lesson_8.ipynb#X50sZmlsZQ%3D%3D?line=3'>4</a>\u001b[0m \u001b[39mprint\u001b[39m(\u001b[39m'\u001b[39m\u001b[39mfile is closed\u001b[39m\u001b[39m'\u001b[39m)\n\u001b[0;32m      <a href='vscode-notebook-cell:/c%3A/Users/Robotux/Documents/Python/20221019VCSPYTB2B/lesson_8.ipynb#X50sZmlsZQ%3D%3D?line=4'>5</a>\u001b[0m \u001b[39mprint\u001b[39m (\u001b[39m'\u001b[39m\u001b[39mfile content:\u001b[39m\u001b[39m'\u001b[39m, text)\n\u001b[1;32m----> <a href='vscode-notebook-cell:/c%3A/Users/Robotux/Documents/Python/20221019VCSPYTB2B/lesson_8.ipynb#X50sZmlsZQ%3D%3D?line=6'>7</a>\u001b[0m fr\u001b[39m.\u001b[39;49mread()\n",
      "\u001b[1;31mValueError\u001b[0m: I/O operation on closed file."
     ]
    }
   ],
   "source": [
    "with open( 'test.txt', mode='r') as fr:\n",
    "    print('file is open')\n",
    "    text = fr.read()\n",
    "print('file is closed')\n",
    "print ('file content:', text)\n",
    "\n",
    "fr.read() # already close"
   ]
  },
  {
   "cell_type": "code",
   "execution_count": 136,
   "metadata": {},
   "outputs": [
    {
     "name": "stdout",
     "output_type": "stream",
     "text": [
      "file is open\n",
      "file is closed\n"
     ]
    }
   ],
   "source": [
    "our_text = 'Text from Python code'\n",
    "our_text_2 = '3rd line'\n",
    "\n",
    "with open( 'test_write.txt', mode='w') as fw:\n",
    "    print('file is open')\n",
    "    fw.write(our_text + '\\n' )\n",
    "    fw.write(our_text_2)\n",
    "print('file is closed')"
   ]
  },
  {
   "cell_type": "code",
   "execution_count": null,
   "metadata": {},
   "outputs": [],
   "source": []
  }
 ],
 "metadata": {
  "kernelspec": {
   "display_name": "Python 3.10.2 64-bit",
   "language": "python",
   "name": "python3"
  },
  "language_info": {
   "codemirror_mode": {
    "name": "ipython",
    "version": 3
   },
   "file_extension": ".py",
   "mimetype": "text/x-python",
   "name": "python",
   "nbconvert_exporter": "python",
   "pygments_lexer": "ipython3",
   "version": "3.10.2"
  },
  "orig_nbformat": 4,
  "vscode": {
   "interpreter": {
    "hash": "db50a459ab6695ace3368e8957af3456c8c93e92d9fe6c38987133d01669da40"
   }
  }
 },
 "nbformat": 4,
 "nbformat_minor": 2
}
