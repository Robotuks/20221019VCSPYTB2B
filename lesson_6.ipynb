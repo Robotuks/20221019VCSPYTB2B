{
 "cells": [
  {
   "cell_type": "markdown",
   "metadata": {},
   "source": [
    "# Homework\n"
   ]
  },
  {
   "cell_type": "markdown",
   "metadata": {},
   "source": [
    "4. Make a list with 10 words, the program will answer such questions:\n",
    "How many words are longer than 10 characters\n",
    "Which word is the longest and shortest\n",
    "Is even one word palindrome, if so, what or what are those words"
   ]
  },
  {
   "cell_type": "code",
   "execution_count": 5,
   "metadata": {},
   "outputs": [
    {
     "name": "stdout",
     "output_type": "stream",
     "text": [
      "long words: ['Refridgerator']\n",
      "The shortest: pop\n",
      "The longest: Refridgerator\n",
      "polindromes: ['pop']\n"
     ]
    }
   ],
   "source": [
    "list_of_words=['pop','rock','three','Monday','Tuesday','January','February','April','Refridgerator','Oven']\n",
    "\n",
    "long_words = []\n",
    "polidromes = []\n",
    "\n",
    "for word in list_of_words:\n",
    "    if len(word) > 10 :\n",
    "        long_words.append(word)\n",
    "    if word == word[::-1]:\n",
    "        polidromes.append(word)\n",
    "\n",
    "list_of_words = sorted(list_of_words, key=len )\n",
    "\n",
    "print('long words:', long_words)\n",
    "print('The shortest:', list_of_words[0])\n",
    "print('The longest:', list_of_words[-1])\n",
    "print('polindromes:', polidromes)\n",
    "# print( sorted() )"
   ]
  },
  {
   "cell_type": "markdown",
   "metadata": {},
   "source": [
    "5. Get the largest product of nearby numbers from a list\n",
    "\n",
    "my_list = [3, 6, -2, -5, 7, 3]\n",
    "\n",
    "result = 21 because the product of 7 and 3 is the largest"
   ]
  },
  {
   "cell_type": "code",
   "execution_count": 10,
   "metadata": {},
   "outputs": [
    {
     "name": "stdout",
     "output_type": "stream",
     "text": [
      "iteration 0\n",
      "3\n",
      "6\n",
      "iteration 1\n",
      "6\n",
      "-2\n",
      "iteration 2\n",
      "-2\n",
      "-5\n",
      "iteration 3\n",
      "-5\n",
      "7\n",
      "iteration 4\n",
      "7\n",
      "3\n",
      "[18, -12, 10, -35, 21]\n",
      "21\n"
     ]
    }
   ],
   "source": [
    "my_list = [3, 6, -2, -5, 7, 3]\n",
    "\n",
    "products = []\n",
    "\n",
    "for idx in range( len(my_list) - 1 ):\n",
    "    print ('iteration', idx)\n",
    "    print( my_list[idx] )\n",
    "    print( my_list[idx + 1] )\n",
    "    products.append( my_list[idx] * my_list[idx + 1] )\n",
    "\n",
    "print (products)\n",
    "print (max(products) )\n"
   ]
  },
  {
   "cell_type": "code",
   "execution_count": 11,
   "metadata": {},
   "outputs": [
    {
     "name": "stdout",
     "output_type": "stream",
     "text": [
      "[3, 6, -2, -5, 7]\n",
      "[6, -2, -5, 7, 3]\n",
      "[18, -12, 10, -35, 21]\n",
      "21\n"
     ]
    }
   ],
   "source": [
    "my_list = [3, 6, -2, -5, 7, 3]\n",
    "\n",
    "products = []\n",
    "\n",
    "print (my_list[:-1])\n",
    "print (my_list[1:])\n",
    "\n",
    "for left_value, right_value in zip(my_list[:-1], my_list[1:]):\n",
    "    products.append( left_value * right_value )\n",
    "\n",
    "print (products)\n",
    "print (max(products) )"
   ]
  },
  {
   "cell_type": "markdown",
   "metadata": {},
   "source": [
    "6. Find duplicate items between two lists   \n",
    "a = [1,2,3,4,5,6,7,8,9,15]   \n",
    "b = [3,8,9,11,15]"
   ]
  },
  {
   "cell_type": "code",
   "execution_count": 12,
   "metadata": {},
   "outputs": [
    {
     "name": "stdout",
     "output_type": "stream",
     "text": [
      "{8, 9, 3, 15}\n"
     ]
    }
   ],
   "source": [
    "a = [1,2,3,4,5,6,7,8,9,15]\n",
    "b = [3,8,9,11,15]\n",
    "\n",
    "print ( set(a).intersection( b ) )"
   ]
  },
  {
   "cell_type": "markdown",
   "metadata": {},
   "source": [
    "7. Filter out unique positive numbers from the list  \n",
    "x = [1, 5, 1, 2, 8, -9, 10, 1, -8, -900, 14, 5, -8, 2, 1, -20, 900, 800, -6, -8, 12, 1]"
   ]
  },
  {
   "cell_type": "code",
   "execution_count": 16,
   "metadata": {},
   "outputs": [
    {
     "name": "stdout",
     "output_type": "stream",
     "text": [
      "14\n",
      "[800, 1, 2, 900, 5, 8, 10, 12, 14]\n"
     ]
    }
   ],
   "source": [
    "x = [1, 5, 1, 2, 8, -9, 10, 1, -8, -900, 14, 5, -8, 2, 1, -20, 900, 800, -6, -8, 12, 1]\n",
    "\n",
    "positive_numbers = []\n",
    "count = 0 \n",
    "for value in set(x):\n",
    "    count += 1\n",
    "    if value > 0:\n",
    "        positive_numbers.append(value)\n",
    "\n",
    "print (count)\n",
    "print (positive_numbers)"
   ]
  },
  {
   "cell_type": "markdown",
   "metadata": {},
   "source": [
    "# Functions"
   ]
  },
  {
   "cell_type": "code",
   "execution_count": 17,
   "metadata": {},
   "outputs": [],
   "source": [
    "def hello():\n",
    "    print('Hello world!!!')\n",
    "    print('end of function')"
   ]
  },
  {
   "cell_type": "code",
   "execution_count": 18,
   "metadata": {},
   "outputs": [
    {
     "name": "stdout",
     "output_type": "stream",
     "text": [
      "Hello world!!!\n",
      "end of function\n"
     ]
    }
   ],
   "source": [
    "hello()"
   ]
  },
  {
   "cell_type": "code",
   "execution_count": 19,
   "metadata": {},
   "outputs": [
    {
     "data": {
      "text/plain": [
       "<function __main__.hello()>"
      ]
     },
     "execution_count": 19,
     "metadata": {},
     "output_type": "execute_result"
    }
   ],
   "source": [
    "hello"
   ]
  },
  {
   "cell_type": "code",
   "execution_count": 20,
   "metadata": {},
   "outputs": [],
   "source": [
    "def hi(name):\n",
    "    print (f'Hello {name}. Nice to meet you')"
   ]
  },
  {
   "cell_type": "code",
   "execution_count": 24,
   "metadata": {},
   "outputs": [
    {
     "name": "stdout",
     "output_type": "stream",
     "text": [
      "Hello Tomas. Nice to meet you\n",
      "Hello Benas. Nice to meet you\n",
      "Hello Egle. Nice to meet you\n",
      "Hello 1. Nice to meet you\n",
      "Hello [12, 584]. Nice to meet you\n"
     ]
    }
   ],
   "source": [
    "hi('Tomas')\n",
    "hi('Benas')\n",
    "hi('Egle')\n",
    "hi(1)\n",
    "hi([12,584])\n",
    "hi(name='Tomas')"
   ]
  },
  {
   "cell_type": "code",
   "execution_count": 25,
   "metadata": {},
   "outputs": [
    {
     "ename": "TypeError",
     "evalue": "hi() missing 1 required positional argument: 'name'",
     "output_type": "error",
     "traceback": [
      "\u001b[1;31m---------------------------------------------------------------------------\u001b[0m",
      "\u001b[1;31mTypeError\u001b[0m                                 Traceback (most recent call last)",
      "\u001b[1;32mc:\\Users\\Robotux\\Documents\\Python\\20221019VCSPYTB2B\\lesson_6.ipynb Cell 17\u001b[0m in \u001b[0;36m<module>\u001b[1;34m\u001b[0m\n\u001b[1;32m----> <a href='vscode-notebook-cell:/c%3A/Users/Robotux/Documents/Python/20221019VCSPYTB2B/lesson_6.ipynb#X32sZmlsZQ%3D%3D?line=0'>1</a>\u001b[0m hi()\n",
      "\u001b[1;31mTypeError\u001b[0m: hi() missing 1 required positional argument: 'name'"
     ]
    }
   ],
   "source": [
    "hi()"
   ]
  },
  {
   "cell_type": "code",
   "execution_count": 27,
   "metadata": {},
   "outputs": [
    {
     "name": "stdout",
     "output_type": "stream",
     "text": [
      "Hello world!!!\n"
     ]
    }
   ],
   "source": [
    "# hello_2() # ERROR\n",
    "\n",
    "def hello_2():\n",
    "    print('Hello world!!!')\n",
    "\n",
    "hello_2()"
   ]
  },
  {
   "cell_type": "code",
   "execution_count": 51,
   "metadata": {},
   "outputs": [],
   "source": [
    "def subtract(num_1, num_2):\n",
    "    result = num_1 - num_2\n",
    "    # print('inside function:', result)\n",
    "    return result\n",
    "    print ('THIS WILL NEVER BE EXECUTED')"
   ]
  },
  {
   "cell_type": "code",
   "execution_count": 52,
   "metadata": {},
   "outputs": [
    {
     "name": "stdout",
     "output_type": "stream",
     "text": [
      "outside function: 2\n",
      "4\n"
     ]
    }
   ],
   "source": [
    "x = subtract(5,3)\n",
    "print ('outside function:',x)\n",
    "x *= 2\n",
    "print (x)"
   ]
  },
  {
   "cell_type": "code",
   "execution_count": 54,
   "metadata": {},
   "outputs": [],
   "source": [
    "def print_subraction(num_1,num_2):\n",
    "    result = subtract(num_1,num_2)\n",
    "    print ('some message with substraction:', result)"
   ]
  },
  {
   "cell_type": "code",
   "execution_count": 55,
   "metadata": {},
   "outputs": [
    {
     "name": "stdout",
     "output_type": "stream",
     "text": [
      "2\n",
      "-2\n",
      "-2\n",
      "some message with substraction: -2\n"
     ]
    }
   ],
   "source": [
    "print ( subtract(5,3) )\n",
    "print ( subtract(3,5) ) # Ctrl + left mouse click\n",
    "print ( subtract(num_2=5, num_1=3) )\n",
    "print_subraction(3,5)\n",
    "\n"
   ]
  },
  {
   "cell_type": "code",
   "execution_count": 56,
   "metadata": {},
   "outputs": [
    {
     "ename": "TypeError",
     "evalue": "unsupported operand type(s) for -: 'str' and 'int'",
     "output_type": "error",
     "traceback": [
      "\u001b[1;31m---------------------------------------------------------------------------\u001b[0m",
      "\u001b[1;31mTypeError\u001b[0m                                 Traceback (most recent call last)",
      "\u001b[1;32mc:\\Users\\Robotux\\Documents\\Python\\20221019VCSPYTB2B\\lesson_6.ipynb Cell 23\u001b[0m in \u001b[0;36m<module>\u001b[1;34m\u001b[0m\n\u001b[1;32m----> <a href='vscode-notebook-cell:/c%3A/Users/Robotux/Documents/Python/20221019VCSPYTB2B/lesson_6.ipynb#X41sZmlsZQ%3D%3D?line=0'>1</a>\u001b[0m \u001b[39mprint\u001b[39m ( subtract(\u001b[39m'\u001b[39;49m\u001b[39ma\u001b[39;49m\u001b[39m'\u001b[39;49m,\u001b[39m3\u001b[39;49m) )\n",
      "\u001b[1;32mc:\\Users\\Robotux\\Documents\\Python\\20221019VCSPYTB2B\\lesson_6.ipynb Cell 23\u001b[0m in \u001b[0;36msubtract\u001b[1;34m(num_1, num_2)\u001b[0m\n\u001b[0;32m      <a href='vscode-notebook-cell:/c%3A/Users/Robotux/Documents/Python/20221019VCSPYTB2B/lesson_6.ipynb#X41sZmlsZQ%3D%3D?line=0'>1</a>\u001b[0m \u001b[39mdef\u001b[39;00m \u001b[39msubtract\u001b[39m(num_1, num_2):\n\u001b[1;32m----> <a href='vscode-notebook-cell:/c%3A/Users/Robotux/Documents/Python/20221019VCSPYTB2B/lesson_6.ipynb#X41sZmlsZQ%3D%3D?line=1'>2</a>\u001b[0m     result \u001b[39m=\u001b[39m num_1 \u001b[39m-\u001b[39;49m num_2\n\u001b[0;32m      <a href='vscode-notebook-cell:/c%3A/Users/Robotux/Documents/Python/20221019VCSPYTB2B/lesson_6.ipynb#X41sZmlsZQ%3D%3D?line=2'>3</a>\u001b[0m     \u001b[39m# print('inside function:', result)\u001b[39;00m\n\u001b[0;32m      <a href='vscode-notebook-cell:/c%3A/Users/Robotux/Documents/Python/20221019VCSPYTB2B/lesson_6.ipynb#X41sZmlsZQ%3D%3D?line=3'>4</a>\u001b[0m     \u001b[39mreturn\u001b[39;00m result\n",
      "\u001b[1;31mTypeError\u001b[0m: unsupported operand type(s) for -: 'str' and 'int'"
     ]
    }
   ],
   "source": [
    "print ( subtract('a',3) )"
   ]
  },
  {
   "cell_type": "code",
   "execution_count": 60,
   "metadata": {},
   "outputs": [
    {
     "ename": "SyntaxError",
     "evalue": "non-default argument follows default argument (2657012848.py, line 2)",
     "output_type": "error",
     "traceback": [
      "\u001b[1;36m  Input \u001b[1;32mIn [60]\u001b[1;36m\u001b[0m\n\u001b[1;33m    def subtract(num_1=1, num_2):\u001b[0m\n\u001b[1;37m                          ^\u001b[0m\n\u001b[1;31mSyntaxError\u001b[0m\u001b[1;31m:\u001b[0m non-default argument follows default argument\n"
     ]
    }
   ],
   "source": [
    "def subtract(num_1, num_2=5):\n",
    "# def subtract(num_1=1, num_2): # error\n",
    "    result = num_1 - num_2\n",
    "    # print('inside function:', result)\n",
    "    return result"
   ]
  },
  {
   "cell_type": "code",
   "execution_count": 59,
   "metadata": {},
   "outputs": [
    {
     "name": "stdout",
     "output_type": "stream",
     "text": [
      "8\n",
      "11\n"
     ]
    }
   ],
   "source": [
    "print ( subtract(13) )\n",
    "print ( subtract(13,2) )"
   ]
  },
  {
   "cell_type": "code",
   "execution_count": 68,
   "metadata": {},
   "outputs": [
    {
     "name": "stdout",
     "output_type": "stream",
     "text": [
      "global var in function 1\n",
      "22\n",
      "global var outside function 1\n"
     ]
    }
   ],
   "source": [
    "# global scope\n",
    "GLOBAL_VARIABLE = 5\n",
    "\n",
    "# DON'T MAKE SUCH FUNCTIONS\n",
    "def subtract(num_1):\n",
    "    # local scope\n",
    "    local_variable = 2\n",
    "    # BAD PRACTICE TO USE or overwrite GLOBAL VARIABLES\n",
    "    global GLOBAL_VARIABLE # THIS IS BAD\n",
    "    GLOBAL_VARIABLE = 1\n",
    "    print ('global var in function', GLOBAL_VARIABLE)\n",
    "    result = (num_1 - GLOBAL_VARIABLE ) * local_variable\n",
    "    \n",
    "    return result\n",
    "\n",
    "# print (local_variable) # not defined in global scope\n",
    "print (subtract(12))\n",
    "print ('global var outside function', GLOBAL_VARIABLE)"
   ]
  },
  {
   "cell_type": "code",
   "execution_count": 76,
   "metadata": {},
   "outputs": [
    {
     "name": "stdout",
     "output_type": "stream",
     "text": [
      " result: 46 and 2nd val is: 2\n",
      "global val 10\n"
     ]
    }
   ],
   "source": [
    "global_var = 10\n",
    "\n",
    "def subtract(num_1, num_2=5):\n",
    "    # local scope\n",
    "    local_variable = 2\n",
    "    if num_1 > 20:\n",
    "        num_2 = 2\n",
    "    # print ('global var in function', GLOBAL_VARIABLE)\n",
    "    result = (num_1 - num_2 ) * local_variable\n",
    "    \n",
    "    return result, num_2\n",
    "\n",
    "# result, value_2 = subtract(25)\n",
    "# print (f' result: {result} and 2nd val is: {value_2}')\n",
    "\n",
    "# global_var = value_2\n",
    "# print ('global val', global_var)\n",
    "\n",
    "result, value_2 = subtract(25, global_var)\n",
    "print (f' result: {result} and 2nd val is: {value_2}')\n",
    "print ('global val', global_var)\n"
   ]
  },
  {
   "cell_type": "code",
   "execution_count": 77,
   "metadata": {},
   "outputs": [],
   "source": [
    "def add_numbers(num_1, num_2):\n",
    "    return num_1 + num_2"
   ]
  },
  {
   "cell_type": "code",
   "execution_count": 81,
   "metadata": {},
   "outputs": [
    {
     "name": "stdout",
     "output_type": "stream",
     "text": [
      "6\n"
     ]
    },
    {
     "ename": "TypeError",
     "evalue": "add_numbers() takes 2 positional arguments but 5 were given",
     "output_type": "error",
     "traceback": [
      "\u001b[1;31m---------------------------------------------------------------------------\u001b[0m",
      "\u001b[1;31mTypeError\u001b[0m                                 Traceback (most recent call last)",
      "\u001b[1;32mc:\\Users\\Robotux\\Documents\\Python\\20221019VCSPYTB2B\\lesson_6.ipynb Cell 29\u001b[0m in \u001b[0;36m<module>\u001b[1;34m\u001b[0m\n\u001b[0;32m      <a href='vscode-notebook-cell:/c%3A/Users/Robotux/Documents/Python/20221019VCSPYTB2B/lesson_6.ipynb#X50sZmlsZQ%3D%3D?line=0'>1</a>\u001b[0m \u001b[39mprint\u001b[39m (add_numbers(\u001b[39m2\u001b[39m,\u001b[39m4\u001b[39m) )\n\u001b[1;32m----> <a href='vscode-notebook-cell:/c%3A/Users/Robotux/Documents/Python/20221019VCSPYTB2B/lesson_6.ipynb#X50sZmlsZQ%3D%3D?line=1'>2</a>\u001b[0m add_numbers(\u001b[39m2\u001b[39;49m,\u001b[39m4\u001b[39;49m,\u001b[39m6\u001b[39;49m,\u001b[39m7\u001b[39;49m,\u001b[39m68\u001b[39;49m)\n",
      "\u001b[1;31mTypeError\u001b[0m: add_numbers() takes 2 positional arguments but 5 were given"
     ]
    }
   ],
   "source": [
    "print (add_numbers(2,4) )\n",
    "add_numbers(2,4,6,7,68)"
   ]
  },
  {
   "cell_type": "code",
   "execution_count": 84,
   "metadata": {},
   "outputs": [],
   "source": [
    "def add_numbers( *args ): # args = arguments\n",
    "    # print (args)\n",
    "    my_sum = 0\n",
    "    for num in args:\n",
    "        my_sum += num\n",
    "    return my_sum\n",
    "    # return num_1 + num_2"
   ]
  },
  {
   "cell_type": "code",
   "execution_count": 86,
   "metadata": {},
   "outputs": [
    {
     "name": "stdout",
     "output_type": "stream",
     "text": [
      "6\n",
      "87\n",
      "2025\n"
     ]
    }
   ],
   "source": [
    "print (add_numbers(2,4) )\n",
    "print (add_numbers(2,4,6,7,68) )\n",
    "print (add_numbers(2,4,6,7,68,496,4,89,684,654,5,6) )"
   ]
  },
  {
   "cell_type": "code",
   "execution_count": 93,
   "metadata": {},
   "outputs": [],
   "source": [
    "def kwargs_f( **kwargs ): # kwargs - keyword arguments \n",
    "    # print (kwargs)\n",
    "    for k,v in kwargs.items(): # k -key, v- value\n",
    "        print (f'key {k} has a value of {v}')"
   ]
  },
  {
   "cell_type": "code",
   "execution_count": 96,
   "metadata": {},
   "outputs": [
    {
     "name": "stdout",
     "output_type": "stream",
     "text": [
      "None\n",
      "key name has a value of Darius\n",
      "key number has a value of 10\n",
      "key shape has a value of circle\n",
      "None\n"
     ]
    }
   ],
   "source": [
    "print(kwargs_f())\n",
    "print(kwargs_f(name='Darius', number=10, shape='circle'))"
   ]
  },
  {
   "cell_type": "code",
   "execution_count": null,
   "metadata": {},
   "outputs": [],
   "source": []
  },
  {
   "cell_type": "code",
   "execution_count": null,
   "metadata": {},
   "outputs": [],
   "source": []
  },
  {
   "cell_type": "markdown",
   "metadata": {},
   "source": [
    "# While loop"
   ]
  },
  {
   "cell_type": "markdown",
   "metadata": {},
   "source": []
  }
 ],
 "metadata": {
  "kernelspec": {
   "display_name": "Python 3.10.2 64-bit",
   "language": "python",
   "name": "python3"
  },
  "language_info": {
   "codemirror_mode": {
    "name": "ipython",
    "version": 3
   },
   "file_extension": ".py",
   "mimetype": "text/x-python",
   "name": "python",
   "nbconvert_exporter": "python",
   "pygments_lexer": "ipython3",
   "version": "3.10.2"
  },
  "orig_nbformat": 4,
  "vscode": {
   "interpreter": {
    "hash": "db50a459ab6695ace3368e8957af3456c8c93e92d9fe6c38987133d01669da40"
   }
  }
 },
 "nbformat": 4,
 "nbformat_minor": 2
}
