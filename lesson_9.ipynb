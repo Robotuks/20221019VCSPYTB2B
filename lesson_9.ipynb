{
 "cells": [
  {
   "cell_type": "code",
   "execution_count": 3,
   "metadata": {},
   "outputs": [
    {
     "data": {
      "text/plain": [
       "True"
      ]
     },
     "execution_count": 3,
     "metadata": {},
     "output_type": "execute_result"
    }
   ],
   "source": [
    "# True and not False and ( [] or bool(\" \") ) or 'word'.isdigit()\n",
    "# not False and ( [] or bool(\" \") ) or 'word'.isdigit()\n",
    "# ( [] or bool(\" \") ) or 'word'.isdigit() # -> ( False or True ) or 'word'.isdigit()\n",
    "True or 'word'.isdigit() # -> True"
   ]
  },
  {
   "cell_type": "markdown",
   "metadata": {},
   "source": [
    "# Recap"
   ]
  },
  {
   "cell_type": "markdown",
   "metadata": {},
   "source": [
    "## Strings"
   ]
  },
  {
   "cell_type": "code",
   "execution_count": 10,
   "metadata": {},
   "outputs": [
    {
     "name": "stdout",
     "output_type": "stream",
     "text": [
      "h\n",
      "hel\n",
      "hello 1World\n",
      "hello 1hello 1\n",
      "['num1', 'num2', 'num3']\n",
      "splited text value: num1\n",
      "splited text value: num2\n",
      "splited text value: num3\n"
     ]
    }
   ],
   "source": [
    "my_string = \"hello 1\" # can also use 'hello', '''hello '''\n",
    "print(my_string[0])\n",
    "print(my_string[0:3])\n",
    "print( my_string + 'World' )\n",
    "print( my_string * 2 )\n",
    "# has a lot of methods\n",
    "my_string_2 = 'num1|num2|num3'\n",
    "\n",
    "print (my_string_2.split('|') )\n",
    "for text in my_string_2.split('|'):\n",
    "    print(f'splited text value: {text}')"
   ]
  },
  {
   "cell_type": "markdown",
   "metadata": {},
   "source": [
    "## Numbers, booleans"
   ]
  },
  {
   "cell_type": "code",
   "execution_count": 18,
   "metadata": {},
   "outputs": [
    {
     "name": "stdout",
     "output_type": "stream",
     "text": [
      "5\n",
      "6\n",
      "1\n",
      "0\n",
      "2\n",
      "True\n",
      "False\n",
      "True\n"
     ]
    }
   ],
   "source": [
    "number = 1\n",
    "number_2 = int( '5' )\n",
    "print (number_2)\n",
    "print( number_2 + number)\n",
    "\n",
    "print (11 % 2)\n",
    "print (72 % 3)\n",
    "my_sum = 0\n",
    "my_sum += 1\n",
    "my_sum += 1\n",
    "print( my_sum)\n",
    "\n",
    "print(bool(5))\n",
    "print(bool(0))\n",
    "print(bool(00.0000001))"
   ]
  },
  {
   "cell_type": "markdown",
   "metadata": {},
   "source": [
    "## List"
   ]
  },
  {
   "cell_type": "code",
   "execution_count": 44,
   "metadata": {},
   "outputs": [
    {
     "name": "stdout",
     "output_type": "stream",
     "text": [
      "hello\n",
      "['hello', 125, True]\n",
      "4\n",
      "['hello', 125, True, ['1', '21'], 50]\n",
      "['hello', 125, True, ['1', '21'], 50]\n",
      "mutable_list ['hello', 125, True, ['1', '21'], 50, 100]\n",
      "my_list ['hello', 125, True, ['1', '21'], 50, 100]\n",
      "[100, 125, True, ['1', '21'], 50, 100]\n"
     ]
    }
   ],
   "source": [
    "my_list = [ 'hello', 125, True, ['1', '21'] ]\n",
    "print (my_list[0] )\n",
    "print (my_list[0:3] )\n",
    "print (len(my_list) )\n",
    "\n",
    "# has a lot of methods\n",
    "my_list.append(50)\n",
    "print (my_list)\n",
    "\n",
    "# IMPORTANT Lists are mutable\n",
    "mutable_list = my_list\n",
    "print (mutable_list)\n",
    "mutable_list.append(100)\n",
    "print ('mutable_list',mutable_list)\n",
    "print ('my_list',my_list)\n",
    "\n",
    "my_list[0] = 100\n",
    "print (my_list )"
   ]
  },
  {
   "cell_type": "markdown",
   "metadata": {},
   "source": [
    "### List comprehension"
   ]
  },
  {
   "cell_type": "code",
   "execution_count": 37,
   "metadata": {},
   "outputs": [
    {
     "name": "stdout",
     "output_type": "stream",
     "text": [
      "<class 'list'>\n",
      "[(1, 'Monday'), (3, 'Wendesday')]\n",
      "<class 'tuple'>\n",
      "((1, 'Monday'), (3, 'Wendesday'))\n",
      "<class 'dict'>\n",
      "{1: 'Monday', 3: 'Wendesday'}\n",
      "<class 'set'>\n",
      "{(3, 'Wendesday'), (1, 'Monday')}\n"
     ]
    }
   ],
   "source": [
    "my_list = [ (i,day) for i, day in enumerate( ['Monday', 'Tuesday', 'Wendesday'], start=1 ) if i % 2 != 0 ]\n",
    "print (type(my_list))\n",
    "print (my_list)\n",
    "\n",
    "my_tuple = tuple( (i,day) for i, day in enumerate( ['Monday', 'Tuesday', 'Wendesday'], start=1 ) if i % 2 != 0 )\n",
    "print (type(my_tuple))\n",
    "print (my_tuple)\n",
    "\n",
    "my_dict = { i: day for i, day in enumerate( ['Monday', 'Tuesday', 'Wendesday'], start=1 ) if i % 2 != 0 }\n",
    "print (type(my_dict))\n",
    "print (my_dict)\n",
    "\n",
    "my_set = {(i,day) for i, day in enumerate( ['Monday', 'Tuesday', 'Wendesday'], start=1 ) if i % 2 != 0 }\n",
    "print (type(my_set))\n",
    "print (my_set)"
   ]
  },
  {
   "cell_type": "markdown",
   "metadata": {},
   "source": [
    "## Tuple"
   ]
  },
  {
   "cell_type": "code",
   "execution_count": 45,
   "metadata": {},
   "outputs": [
    {
     "name": "stdout",
     "output_type": "stream",
     "text": [
      "(5, 1, 'hello')\n",
      "5\n",
      "True\n"
     ]
    }
   ],
   "source": [
    "my_tuple = (5,1, 'hello')\n",
    "print( my_tuple)\n",
    "print(my_tuple[0] )\n",
    "# my_tuple[0] = 10 # can't overwrite\n",
    "print ( 5 in my_tuple )"
   ]
  },
  {
   "cell_type": "markdown",
   "metadata": {},
   "source": [
    "## None"
   ]
  },
  {
   "cell_type": "code",
   "execution_count": 51,
   "metadata": {},
   "outputs": [
    {
     "name": "stdout",
     "output_type": "stream",
     "text": [
      "None\n"
     ]
    }
   ],
   "source": [
    "my_none = None\n",
    "\n",
    "def my_none_function():\n",
    "    pass\n",
    "    # 5 + 4\n",
    "    # does not have return\n",
    "\n",
    "\n",
    "def sums_numbers( number_2, something):\n",
    "    pass\n",
    "    # return sum\n",
    "\n",
    "\n",
    "# def authenticate(user_name, password):\n",
    "#     pass\n",
    "\n",
    "print (my_none_function())"
   ]
  },
  {
   "cell_type": "markdown",
   "metadata": {},
   "source": [
    "## Dictionary"
   ]
  },
  {
   "cell_type": "code",
   "execution_count": 58,
   "metadata": {},
   "outputs": [
    {
     "name": "stdout",
     "output_type": "stream",
     "text": [
      "{'name': 'Darius', 'number': 42, 'color': 'red'}\n",
      "key - name, value - Darius\n",
      "key - number, value - 42\n",
      "key - color, value - red\n",
      "{'name': 'Darius', 'number': 42, 'color': 'red'}\n",
      "mutable_dict {'name': 'Darius', 'number': 42, 'color': 'red', '100': 100}\n",
      "my_dict {'name': 'Darius', 'number': 42, 'color': 'red', '100': 100}\n",
      "\n",
      "red\n"
     ]
    }
   ],
   "source": [
    "my_dict = {\n",
    "    'name': 'Darius',\n",
    "    'number': 42\n",
    "}\n",
    "my_dict['color'] = 'red'\n",
    "print(my_dict)\n",
    "\n",
    "for k, v in my_dict.items():\n",
    "    print (f'key - {k}, value - {v}')\n",
    "\n",
    "# IMPORTANT Dictionaries are mutable\n",
    "mutable_dict = my_dict\n",
    "print (mutable_dict)\n",
    "mutable_dict.update( {'100': 100 })\n",
    "print ('mutable_dict',mutable_dict)\n",
    "print ('my_dict',my_dict)\n",
    "\n",
    "print (f\"\\n{my_dict['color']}\")"
   ]
  },
  {
   "cell_type": "markdown",
   "metadata": {},
   "source": [
    "## Set"
   ]
  },
  {
   "cell_type": "code",
   "execution_count": 66,
   "metadata": {},
   "outputs": [
    {
     "name": "stdout",
     "output_type": "stream",
     "text": [
      "{'hello', 1, 5}\n",
      "{'hello', 1, 5, 6}\n",
      "{6, 'hello'}\n"
     ]
    }
   ],
   "source": [
    "my_set = { 1,1,1, 5,5,5, 'hello', 'hello', 'hello' }\n",
    "print(my_set)\n",
    "# my_set[0] # no indexes\n",
    "my_set.add(6)\n",
    "print(my_set)\n",
    "\n",
    "print (my_set.difference( [1,5,7,8] ))"
   ]
  },
  {
   "cell_type": "markdown",
   "metadata": {},
   "source": [
    "## For and While loops"
   ]
  },
  {
   "cell_type": "code",
   "execution_count": 69,
   "metadata": {},
   "outputs": [
    {
     "name": "stdout",
     "output_type": "stream",
     "text": [
      "for loop 0\n",
      "for loop 1\n",
      "for loop 2\n",
      "for loop 3\n",
      "for loop 4\n",
      "while loop\n",
      "while loop\n",
      "while loop\n",
      "while loop\n",
      "while loop\n",
      "while loop\n"
     ]
    }
   ],
   "source": [
    "# for loop for known number of iterations\n",
    "for i in range(5):\n",
    "    print('for loop', i)\n",
    "\n",
    "# while loop for unknown number of iteration\n",
    "import random\n",
    "\n",
    "# while random.random() > 0.1:\n",
    "#     print('while loop')\n",
    "\n",
    "# same\n",
    "while True:\n",
    "    print('while loop')\n",
    "    if random.random() < 0.2:\n",
    "        break"
   ]
  },
  {
   "cell_type": "markdown",
   "metadata": {},
   "source": [
    "## If statements"
   ]
  },
  {
   "cell_type": "code",
   "execution_count": 72,
   "metadata": {},
   "outputs": [
    {
     "name": "stdout",
     "output_type": "stream",
     "text": [
      "hello\n"
     ]
    }
   ],
   "source": [
    "if 2 >1 and 3 > -5:\n",
    "    print ('hello')\n",
    "elif 'text':\n",
    "    print ('text')\n",
    "else:\n",
    "    print( 'nothing' )"
   ]
  },
  {
   "cell_type": "markdown",
   "metadata": {},
   "source": [
    "## Functions"
   ]
  },
  {
   "cell_type": "code",
   "execution_count": 78,
   "metadata": {},
   "outputs": [
    {
     "name": "stdout",
     "output_type": "stream",
     "text": [
      "Put your function code here\n",
      "Put your function code here\n",
      "None\n",
      "True\n"
     ]
    }
   ],
   "source": [
    "def function_name():\n",
    "    print ('Put your function code here')\n",
    "\n",
    "def function_name_with_return():\n",
    "    return True\n",
    "\n",
    "function_name()\n",
    "print (function_name())\n",
    "value = function_name_with_return()\n",
    "print (value)"
   ]
  },
  {
   "cell_type": "markdown",
   "metadata": {},
   "source": [
    "# Write/Read files"
   ]
  },
  {
   "cell_type": "markdown",
   "metadata": {},
   "source": [
    "## [JSON](https://docs.python.org/3/library/json.html)"
   ]
  },
  {
   "cell_type": "code",
   "execution_count": 85,
   "metadata": {},
   "outputs": [
    {
     "name": "stdout",
     "output_type": "stream",
     "text": [
      "{'name': 'Darius', 'number': 42, 'color': 'red', '100': 100, 'bool': True, 'list': [1, 2, 5, 4, 6, 8, 74, 6]}\n"
     ]
    }
   ],
   "source": [
    "import json\n",
    "\n",
    "my_dict['bool'] = True\n",
    "my_dict['list'] = [1,2,5,4,6,8,74,6]\n",
    "print( my_dict )\n",
    "\n",
    "with open('data.json', 'w') as fw:\n",
    "    json.dump(my_dict, fw)\n",
    "# pretify json: Ctrl + Shift + p "
   ]
  },
  {
   "cell_type": "code",
   "execution_count": 87,
   "metadata": {},
   "outputs": [
    {
     "name": "stdout",
     "output_type": "stream",
     "text": [
      "[100, 125, True, ['1', '21'], 50, 100]\n"
     ]
    }
   ],
   "source": [
    "print (my_list)\n",
    "\n",
    "with open('list.json', 'w') as fw:\n",
    "    json.dump(my_list, fw)"
   ]
  },
  {
   "cell_type": "code",
   "execution_count": 84,
   "metadata": {},
   "outputs": [
    {
     "name": "stdout",
     "output_type": "stream",
     "text": [
      "{'name': 'Darius', 'number': 42, 'color': 'red', '100': 100, 'bool': True}\n"
     ]
    }
   ],
   "source": [
    "with open('data.json', 'r') as fr:\n",
    "    loaded_dict = json.load(fr)\n",
    "\n",
    "print(loaded_dict)"
   ]
  },
  {
   "cell_type": "markdown",
   "metadata": {},
   "source": [
    "## [Pickle](https://docs.python.org/3/library/pickle.html#:~:text=%E2%80%9CPickling%E2%80%9D%20is%20the%20process%20whereby,back%20into%20an%20object%20hierarchy.)"
   ]
  },
  {
   "cell_type": "code",
   "execution_count": 88,
   "metadata": {},
   "outputs": [],
   "source": [
    "import pickle\n",
    "\n",
    "def my_function():\n",
    "    print ('hello pickle')"
   ]
  },
  {
   "cell_type": "code",
   "execution_count": 90,
   "metadata": {},
   "outputs": [],
   "source": [
    "with open('pickle.pkl', 'wb') as fw:\n",
    "    pickle.dump(my_function, fw)\n"
   ]
  },
  {
   "cell_type": "code",
   "execution_count": 91,
   "metadata": {},
   "outputs": [],
   "source": [
    "with open('pickle.pkl', 'rb') as fr:\n",
    "    loaded_function = pickle.load(fr)"
   ]
  },
  {
   "cell_type": "code",
   "execution_count": 92,
   "metadata": {},
   "outputs": [
    {
     "name": "stdout",
     "output_type": "stream",
     "text": [
      "hello pickle\n"
     ]
    }
   ],
   "source": [
    "loaded_function()"
   ]
  },
  {
   "cell_type": "code",
   "execution_count": 93,
   "metadata": {},
   "outputs": [],
   "source": [
    "with open('pickle_data.pkl', 'wb') as fw:\n",
    "    pickle.dump(my_dict, fw)"
   ]
  },
  {
   "cell_type": "code",
   "execution_count": 94,
   "metadata": {},
   "outputs": [
    {
     "name": "stdout",
     "output_type": "stream",
     "text": [
      "{'name': 'Darius', 'number': 42, 'color': 'red', '100': 100, 'bool': True, 'list': [1, 2, 5, 4, 6, 8, 74, 6]}\n"
     ]
    }
   ],
   "source": [
    "with open('pickle_data.pkl', 'rb') as fr:\n",
    "    loaded_pickle_dict = pickle.load(fr)\n",
    "\n",
    "print (loaded_pickle_dict)"
   ]
  },
  {
   "cell_type": "code",
   "execution_count": 95,
   "metadata": {},
   "outputs": [
    {
     "name": "stdout",
     "output_type": "stream",
     "text": [
      "win32\n"
     ]
    }
   ],
   "source": [
    "import sys\n",
    "\n",
    "print (sys.platform)"
   ]
  },
  {
   "cell_type": "markdown",
   "metadata": {},
   "source": [
    "# Classes"
   ]
  },
  {
   "cell_type": "code",
   "execution_count": 103,
   "metadata": {},
   "outputs": [],
   "source": [
    "# class definition\n",
    "class Car:\n",
    "    def __init__(self, brand, year, color):\n",
    "        self.brand = brand\n",
    "        self.year = year\n",
    "        self.color = color\n",
    "\n",
    "    def __str__(self) -> str:\n",
    "        return f'Brand: {self.brand}, year: {self.year}, color: {self.color}'"
   ]
  },
  {
   "cell_type": "code",
   "execution_count": 105,
   "metadata": {},
   "outputs": [
    {
     "name": "stdout",
     "output_type": "stream",
     "text": [
      "car_1\n",
      "Brand: BMW, year: 2006, color: black\n",
      "car_2\n",
      "Brand: Tesla, year: 2015, color: Silver\n"
     ]
    }
   ],
   "source": [
    "# creation of class instances\n",
    "car_1 = Car('BMW', 2006, 'black')\n",
    "print('car_1')\n",
    "\n",
    "print (car_1)\n",
    "# print (car_1.brand )\n",
    "# print (car_1.year )\n",
    "# print (car_1.color )\n",
    "\n",
    "car_2 = Car('Tesla', 2015, 'Silver')\n",
    "print('car_2')\n",
    "\n",
    "print (car_2)\n",
    "# print (car_2.brand )\n",
    "# print (car_2.year )\n",
    "# print (car_2.color )"
   ]
  },
  {
   "cell_type": "code",
   "execution_count": 106,
   "metadata": {},
   "outputs": [
    {
     "name": "stdout",
     "output_type": "stream",
     "text": [
      "Current car is BMW\n",
      "Current car is Tesla\n"
     ]
    }
   ],
   "source": [
    "cars = [ car_1, car_2]\n",
    "for car in cars:\n",
    "    print (f'Current car is {car.brand}')"
   ]
  },
  {
   "cell_type": "code",
   "execution_count": null,
   "metadata": {},
   "outputs": [],
   "source": []
  }
 ],
 "metadata": {
  "kernelspec": {
   "display_name": "Python 3.10.2 64-bit",
   "language": "python",
   "name": "python3"
  },
  "language_info": {
   "codemirror_mode": {
    "name": "ipython",
    "version": 3
   },
   "file_extension": ".py",
   "mimetype": "text/x-python",
   "name": "python",
   "nbconvert_exporter": "python",
   "pygments_lexer": "ipython3",
   "version": "3.10.2"
  },
  "orig_nbformat": 4,
  "vscode": {
   "interpreter": {
    "hash": "db50a459ab6695ace3368e8957af3456c8c93e92d9fe6c38987133d01669da40"
   }
  }
 },
 "nbformat": 4,
 "nbformat_minor": 2
}
