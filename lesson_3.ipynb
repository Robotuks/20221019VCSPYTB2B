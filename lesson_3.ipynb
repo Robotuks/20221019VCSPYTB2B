{
 "cells": [
  {
   "cell_type": "code",
   "execution_count": 1,
   "metadata": {},
   "outputs": [],
   "source": [
    "cities = ['Vilnius', 'Kaunas', 'London' ]"
   ]
  },
  {
   "cell_type": "code",
   "execution_count": 8,
   "metadata": {},
   "outputs": [
    {
     "name": "stdout",
     "output_type": "stream",
     "text": [
      "Vilnius\n",
      "Kaunas\n",
      "London\n",
      "<class 'str'>\n",
      "['Vilnius', 'Kaunas']\n",
      "<class 'list'>\n",
      "3\n"
     ]
    }
   ],
   "source": [
    "print (cities[0] )\n",
    "print (cities[1] )\n",
    "print (cities[-1] )\n",
    "print (type(cities[0]) )\n",
    "# slicing\n",
    "print (cities[:2] )\n",
    "print (type(cities[:2]) )\n",
    "print (len(cities) )"
   ]
  },
  {
   "cell_type": "code",
   "execution_count": 14,
   "metadata": {},
   "outputs": [
    {
     "name": "stdout",
     "output_type": "stream",
     "text": [
      "[54, 489, 4, 8, 'four', True]\n",
      "54\n",
      "<class 'int'>\n",
      "True\n",
      "<class 'bool'>\n",
      "four\n",
      "<class 'str'>\n"
     ]
    }
   ],
   "source": [
    "numbers = [ 54, 489, 4, 8, 'four', True ]\n",
    "print( numbers )\n",
    "print( numbers[0] )\n",
    "print( type(numbers[0] ) )\n",
    "print( numbers[-1] )\n",
    "print( type(numbers[-1] ) )\n",
    "print( numbers[-2] )\n",
    "print( type(numbers[-2] ) )"
   ]
  },
  {
   "cell_type": "code",
   "execution_count": 38,
   "metadata": {},
   "outputs": [
    {
     "name": "stdout",
     "output_type": "stream",
     "text": [
      "[1, 5, 7, 6, 8]\n",
      "[1, 5, 7, 6, 8, 10]\n",
      "[1, 5, 7, 6, 8, 10, 10]\n",
      "[1, 5, 7, 6, 8, 10, 10, '500']\n",
      "[1, 5, 7, 6, 8, 10, 10, '500', [5, 5, 5]]\n",
      "[5, 5, 5]\n"
     ]
    }
   ],
   "source": [
    "numbers = [1,5,7,6,8]\n",
    "print( numbers )\n",
    "numbers.append(10)\n",
    "print( numbers )\n",
    "numbers.append(10)\n",
    "print( numbers )\n",
    "numbers.append('500')\n",
    "print( numbers )\n",
    "numbers.append( [5,5,5] )\n",
    "print( numbers )\n",
    "print( numbers[-1] )"
   ]
  },
  {
   "cell_type": "code",
   "execution_count": 20,
   "metadata": {},
   "outputs": [
    {
     "name": "stdout",
     "output_type": "stream",
     "text": [
      "[]\n"
     ]
    }
   ],
   "source": [
    "# numbers.clear()\n",
    "# print (numbers)"
   ]
  },
  {
   "cell_type": "code",
   "execution_count": 24,
   "metadata": {},
   "outputs": [
    {
     "name": "stdout",
     "output_type": "stream",
     "text": [
      "[1, 5, 7, 6, 8, 10, 10, '500', [5, 5, 5]]\n",
      "2\n",
      "1\n"
     ]
    }
   ],
   "source": [
    "print(numbers)\n",
    "print( numbers.count(10) )\n",
    "print( numbers.count(5) )"
   ]
  },
  {
   "cell_type": "code",
   "execution_count": 35,
   "metadata": {},
   "outputs": [
    {
     "name": "stdout",
     "output_type": "stream",
     "text": [
      "0\n",
      "[5]\n",
      "1\n",
      "5\n"
     ]
    }
   ],
   "source": [
    "nested_list = [[[[[[[[[[[[[[[[[[[[5]]]]]]]]]]]]]]]]]]]]\n",
    "print (nested_list.count(5))\n",
    "print (nested_list[0][0][0][0][0][0][0][0][0][0][0][0][0][0][0][0][0][0][0] )\n",
    "print (nested_list[0][0][0][0][0][0][0][0][0][0][0][0][0][0][0][0][0][0][0].count(5)  )\n",
    "print (nested_list[0][0][0][0][0][0][0][0][0][0][0][0][0][0][0][0][0][0][0][0] )"
   ]
  },
  {
   "cell_type": "code",
   "execution_count": 43,
   "metadata": {},
   "outputs": [
    {
     "name": "stdout",
     "output_type": "stream",
     "text": [
      "[1, 5, 7, 6, 8, 10, 10, '500', [5, 5, 5], 5, 5, 5, 5, 5, 5, 5, 5, 5]\n",
      "[1, 5, 7, 6, 8, 10, 10, '500', [5, 5, 5], 5, 5, 5, 5, 5, 5, 5, 5, 5, 5, 5, 5, 'H', 'i']\n",
      "13\n"
     ]
    }
   ],
   "source": [
    "print (numbers)\n",
    "# numbers.append( [5,5,5] )\n",
    "numbers.extend( [5,5,5] )\n",
    "numbers.extend( 'Hi' )\n",
    "print (numbers)\n",
    "print( numbers.count(5) )"
   ]
  },
  {
   "cell_type": "code",
   "execution_count": 47,
   "metadata": {},
   "outputs": [
    {
     "name": "stdout",
     "output_type": "stream",
     "text": [
      "[100, 1, 5, 7, 6, 8, 10, 10, '500', [5, 5, 5], 5, 5, 5, 5, 5, 5, 5, 5, 5, 5, 5, 5, 'H', 'i']\n",
      "8\n",
      "500\n",
      "[100, 100, 1, 5, 7, 6, 8, 10, 10, '500', [5, 5, 5], 5, 5, 5, 5, 5, 5, 5, 5, 5, 5, 5, 5, 'H', 'i']\n",
      "[100, 100, 1, 5, 7, 6, 8, 10, 100, 10, '500', [5, 5, 5], 5, 5, 5, 5, 5, 5, 5, 5, 5, 5, 5, 5, 'H', 'i']\n"
     ]
    }
   ],
   "source": [
    "print (numbers)\n",
    "print (numbers.index('500') )\n",
    "print (numbers[ numbers.index('500') ]  )\n",
    "numbers.insert(0, 100)\n",
    "print(numbers)\n",
    "numbers.insert(8, 100)\n",
    "print(numbers)"
   ]
  },
  {
   "cell_type": "code",
   "execution_count": 62,
   "metadata": {},
   "outputs": [
    {
     "name": "stdout",
     "output_type": "stream",
     "text": [
      "[100, 100, 1, 5, 7, 6, 8, 10, 100, 10, '500', [5, 5, 5]]\n",
      "[5, 5, 5]\n",
      "[100, 100, 1, 5, 7, 6, 8, 10, 100, 10, '500']\n"
     ]
    }
   ],
   "source": [
    "print(numbers)\n",
    "print( numbers.pop() )\n",
    "print(numbers)"
   ]
  },
  {
   "cell_type": "code",
   "execution_count": 66,
   "metadata": {},
   "outputs": [
    {
     "name": "stdout",
     "output_type": "stream",
     "text": [
      "[1, 5, 7, 6, 8, 10, 10, '500']\n"
     ]
    },
    {
     "ename": "ValueError",
     "evalue": "list.remove(x): x not in list",
     "output_type": "error",
     "traceback": [
      "\u001b[1;31m---------------------------------------------------------------------------\u001b[0m",
      "\u001b[1;31mValueError\u001b[0m                                Traceback (most recent call last)",
      "\u001b[1;32mc:\\Users\\Robotux\\Documents\\Python\\20221019VCSPYTB2B\\lesson_3.ipynb Cell 11\u001b[0m in \u001b[0;36m<module>\u001b[1;34m\u001b[0m\n\u001b[0;32m      <a href='vscode-notebook-cell:/c%3A/Users/Robotux/Documents/Python/20221019VCSPYTB2B/lesson_3.ipynb#X13sZmlsZQ%3D%3D?line=0'>1</a>\u001b[0m \u001b[39mprint\u001b[39m (numbers)\n\u001b[1;32m----> <a href='vscode-notebook-cell:/c%3A/Users/Robotux/Documents/Python/20221019VCSPYTB2B/lesson_3.ipynb#X13sZmlsZQ%3D%3D?line=1'>2</a>\u001b[0m numbers\u001b[39m.\u001b[39;49mremove(\u001b[39m100\u001b[39;49m)\n\u001b[0;32m      <a href='vscode-notebook-cell:/c%3A/Users/Robotux/Documents/Python/20221019VCSPYTB2B/lesson_3.ipynb#X13sZmlsZQ%3D%3D?line=2'>3</a>\u001b[0m \u001b[39mprint\u001b[39m (numbers)\n",
      "\u001b[1;31mValueError\u001b[0m: list.remove(x): x not in list"
     ]
    }
   ],
   "source": [
    "print (numbers)\n",
    "numbers.remove(100) # gives error if does not exist\n",
    "print (numbers)"
   ]
  },
  {
   "cell_type": "code",
   "execution_count": 84,
   "metadata": {},
   "outputs": [
    {
     "name": "stdout",
     "output_type": "stream",
     "text": [
      "[5, 4, 1, 87, 36]\n",
      "[1, 4, 5, 36, 87]\n",
      "[87, 36, 5, 4, 1]\n",
      "[5, 4, 1, 87, 36]\n"
     ]
    }
   ],
   "source": [
    "numbers = [ 5,4,1,87,36]\n",
    "\n",
    "print ( numbers )\n",
    "print (sorted(numbers) )\n",
    "print (sorted(numbers, reverse=True))\n",
    "print (numbers)"
   ]
  },
  {
   "cell_type": "code",
   "execution_count": 82,
   "metadata": {},
   "outputs": [
    {
     "name": "stdout",
     "output_type": "stream",
     "text": [
      "[5, 4, 1, 87, 36]\n",
      "[1, 4, 5, 36, 87]\n",
      "[87, 36, 5, 4, 1]\n",
      "None\n",
      "[1, 4, 5, 36, 87]\n"
     ]
    }
   ],
   "source": [
    "numbers = [ 5,4,1,87,36]\n",
    "print (numbers)\n",
    "numbers.sort()\n",
    "print (numbers)\n",
    "numbers.sort(reverse=True)\n",
    "print (numbers)\n",
    "print (numbers.sort())\n",
    "print (numbers)"
   ]
  },
  {
   "cell_type": "code",
   "execution_count": 88,
   "metadata": {},
   "outputs": [
    {
     "name": "stdout",
     "output_type": "stream",
     "text": [
      "[36, 87, 1, 4, 5]\n",
      "[5, 4, 1, 87, 36]\n",
      "[36, 87, 1, 4, 5]\n",
      "[36, 87, 1, 4, 5]\n"
     ]
    }
   ],
   "source": [
    "numbers = [ 5,4,1,87,36]\n",
    "numbers.reverse()\n",
    "print (numbers)\n",
    "numbers.reverse()\n",
    "print (numbers)\n",
    "print (numbers[::-1])\n",
    "print (numbers[::-1])"
   ]
  },
  {
   "cell_type": "code",
   "execution_count": 90,
   "metadata": {},
   "outputs": [
    {
     "name": "stdout",
     "output_type": "stream",
     "text": [
      "[5, 4, 1, 87, 36]\n",
      "[100, 4, 1, 87, 36]\n"
     ]
    }
   ],
   "source": [
    "numbers = [ 5,4,1,87,36]\n",
    "print (numbers)\n",
    "numbers[0] = 100\n",
    "print (numbers)"
   ]
  },
  {
   "cell_type": "code",
   "execution_count": 94,
   "metadata": {},
   "outputs": [
    {
     "name": "stdout",
     "output_type": "stream",
     "text": [
      "1\n",
      "1\n"
     ]
    }
   ],
   "source": [
    "# get value 1 from the list \n",
    "nested_list = [12,67, [5486,8,[[0, 1, 54]], 625 ] ]\n",
    "print( nested_list[2][2][0][1] )\n",
    "print( nested_list[-1][-2][0][1] )"
   ]
  },
  {
   "cell_type": "code",
   "execution_count": 98,
   "metadata": {},
   "outputs": [
    {
     "name": "stdout",
     "output_type": "stream",
     "text": [
      "[1, 3, 5, 7, 9]\n",
      "[1, 4, 7, 10]\n",
      "[10, 8, 6, 4, 2]\n"
     ]
    }
   ],
   "source": [
    "numbers = [1,2,3,4,5,6,7,8,9,10]\n",
    "print (numbers[::2])\n",
    "print (numbers[::3])\n",
    "print (numbers[::-2])"
   ]
  },
  {
   "cell_type": "code",
   "execution_count": 101,
   "metadata": {},
   "outputs": [
    {
     "name": "stdout",
     "output_type": "stream",
     "text": [
      "['Vilnius', 'Kaunas', 'London']\n",
      "True\n",
      "False\n"
     ]
    }
   ],
   "source": [
    "print( cities)\n",
    "print( 'London' in cities )\n",
    "print( 'Berlin' in cities )"
   ]
  },
  {
   "cell_type": "code",
   "execution_count": 104,
   "metadata": {},
   "outputs": [
    {
     "name": "stdout",
     "output_type": "stream",
     "text": [
      "False\n",
      "True\n",
      "True\n"
     ]
    }
   ],
   "source": [
    "print( bool( [] ) )\n",
    "print( bool( [ 0 ] ) )\n",
    "print( bool( cities ) )"
   ]
  },
  {
   "cell_type": "code",
   "execution_count": 105,
   "metadata": {},
   "outputs": [
    {
     "name": "stdout",
     "output_type": "stream",
     "text": [
      "[1, 5, 10, 'a', 'b']\n"
     ]
    }
   ],
   "source": [
    "combined_list = [1,5,10] + ['a', 'b']\n",
    "print(combined_list)"
   ]
  },
  {
   "cell_type": "code",
   "execution_count": 106,
   "metadata": {},
   "outputs": [
    {
     "ename": "TypeError",
     "evalue": "unsupported operand type(s) for -: 'list' and 'list'",
     "output_type": "error",
     "traceback": [
      "\u001b[1;31m---------------------------------------------------------------------------\u001b[0m",
      "\u001b[1;31mTypeError\u001b[0m                                 Traceback (most recent call last)",
      "\u001b[1;32mc:\\Users\\Robotux\\Documents\\Python\\20221019VCSPYTB2B\\lesson_3.ipynb Cell 21\u001b[0m in \u001b[0;36m<module>\u001b[1;34m\u001b[0m\n\u001b[1;32m----> <a href='vscode-notebook-cell:/c%3A/Users/Robotux/Documents/Python/20221019VCSPYTB2B/lesson_3.ipynb#X33sZmlsZQ%3D%3D?line=0'>1</a>\u001b[0m combined_list \u001b[39m-\u001b[39;49m [\u001b[39m1\u001b[39;49m]\n",
      "\u001b[1;31mTypeError\u001b[0m: unsupported operand type(s) for -: 'list' and 'list'"
     ]
    }
   ],
   "source": [
    "combined_list - [1]"
   ]
  },
  {
   "cell_type": "code",
   "execution_count": 110,
   "metadata": {},
   "outputs": [
    {
     "name": "stdout",
     "output_type": "stream",
     "text": [
      "[2, 5, 3, 2, 5, 3, 2, 5, 3, 2, 5, 3, 2, 5, 3, 2, 5, 3, 2, 5, 3, 2, 5, 3, 2, 5, 3, 2, 5, 3, 2, 5, 3, 2, 5, 3, 2, 5, 3, 2, 5, 3, 2, 5, 3, 2, 5, 3, 2, 5, 3, 2, 5, 3, 2, 5, 3, 2, 5, 3, 2, 5, 3, 2, 5, 3, 2, 5, 3, 2, 5, 3, 2, 5, 3, 2, 5, 3, 2, 5, 3, 2, 5, 3, 2, 5, 3, 2, 5, 3, 2, 5, 3, 2, 5, 3, 2, 5, 3, 2, 5, 3, 2, 5, 3, 2, 5, 3, 2, 5, 3, 2, 5, 3, 2, 5, 3, 2, 5, 3, 2, 5, 3, 2, 5, 3, 2, 5, 3, 2, 5, 3, 2, 5, 3, 2, 5, 3, 2, 5, 3, 2, 5, 3, 2, 5, 3, 2, 5, 3, 2, 5, 3, 2, 5, 3, 2, 5, 3, 2, 5, 3, 2, 5, 3, 2, 5, 3, 2, 5, 3, 2, 5, 3, 2, 5, 3, 2, 5, 3, 2, 5, 3, 2, 5, 3, 2, 5, 3, 2, 5, 3, 2, 5, 3, 2, 5, 3, 2, 5, 3, 2, 5, 3, 2, 5, 3, 2, 5, 3, 2, 5, 3, 2, 5, 3, 2, 5, 3, 2, 5, 3, 2, 5, 3, 2, 5, 3, 2, 5, 3, 2, 5, 3, 2, 5, 3, 2, 5, 3, 2, 5, 3, 2, 5, 3, 2, 5, 3, 2, 5, 3, 2, 5, 3, 2, 5, 3, 2, 5, 3, 2, 5, 3, 2, 5, 3, 2, 5, 3, 2, 5, 3, 2, 5, 3, 2, 5, 3, 2, 5, 3, 2, 5, 3, 2, 5, 3, 2, 5, 3, 2, 5, 3, 2, 5, 3, 2, 5, 3]\n"
     ]
    }
   ],
   "source": [
    "print ([2, 5, 3] * 100)\n"
   ]
  },
  {
   "cell_type": "code",
   "execution_count": 114,
   "metadata": {},
   "outputs": [
    {
     "name": "stdout",
     "output_type": "stream",
     "text": [
      "<class 'list'>\n",
      "<class 'dict'>\n",
      "<class 'tuple'>\n"
     ]
    }
   ],
   "source": [
    "print (type( [] ) )\n",
    "print (type( {} ) )\n",
    "print (type( () ) )"
   ]
  },
  {
   "cell_type": "markdown",
   "metadata": {},
   "source": [
    "# mutable and immutable variables\n",
    "https://medium.com/@meghamohan/mutable-and-immutable-side-of-python-c2145cf72747\n"
   ]
  },
  {
   "cell_type": "code",
   "execution_count": 117,
   "metadata": {},
   "outputs": [
    {
     "name": "stdout",
     "output_type": "stream",
     "text": [
      "before\n",
      "2377669476592\n",
      "2377669476592\n",
      "after\n",
      "2377669476592\n",
      "2377669476752\n",
      "1\n",
      "6\n"
     ]
    }
   ],
   "source": [
    "# immutable variable:\n",
    "a = 1\n",
    "b = a\n",
    "print ('before')\n",
    "print( id(a) )\n",
    "print( id(b) )\n",
    "b += 5\n",
    "print ('after')\n",
    "print( id(a) )\n",
    "print( id(b) )\n",
    "print (a)\n",
    "print (b)"
   ]
  },
  {
   "cell_type": "code",
   "execution_count": 120,
   "metadata": {},
   "outputs": [
    {
     "name": "stdout",
     "output_type": "stream",
     "text": [
      "before\n",
      "2377792106432\n",
      "2377792106432\n",
      "after\n",
      "2377792106432\n",
      "2377792106432\n",
      "[1, 2, 3, 5]\n",
      "[1, 2, 3, 5]\n"
     ]
    }
   ],
   "source": [
    "# mutable variable:\n",
    "a = [1,2,3]\n",
    "b = a\n",
    "print ('before')\n",
    "print( id(a) )\n",
    "print( id(b) )\n",
    "b.append(5)\n",
    "print ('after')\n",
    "print( id(a) )\n",
    "print( id(b) )\n",
    "print (a)\n",
    "print (b)"
   ]
  },
  {
   "cell_type": "code",
   "execution_count": 121,
   "metadata": {},
   "outputs": [
    {
     "name": "stdout",
     "output_type": "stream",
     "text": [
      "before\n",
      "2377792130944\n",
      "2377792140544\n",
      "after\n",
      "2377792130944\n",
      "2377792140544\n",
      "[1, 2, 3]\n",
      "[1, 2, 3, 5]\n"
     ]
    }
   ],
   "source": [
    "# Fix 1. Not the best one\n",
    "# mutable variable:\n",
    "a = [1,2,3]\n",
    "b = a.copy()\n",
    "print ('before')\n",
    "print( id(a) )\n",
    "print( id(b) )\n",
    "b.append(5)\n",
    "print ('after')\n",
    "print( id(a) )\n",
    "print( id(b) )\n",
    "print (a)\n",
    "print (b)"
   ]
  },
  {
   "cell_type": "code",
   "execution_count": 123,
   "metadata": {},
   "outputs": [
    {
     "name": "stdout",
     "output_type": "stream",
     "text": [
      "before\n",
      "2377792162176\n",
      "2377791769856\n",
      "after\n",
      "2377792162176\n",
      "2377791769856\n",
      "[1, 2, ['a', 'b']]\n",
      "[1, 2, ['a', 'b', 5]]\n"
     ]
    }
   ],
   "source": [
    "# Fix 2\n",
    "# mutable variable:\n",
    "import copy\n",
    "\n",
    "a = [1,2,[ 'a','b'] ]\n",
    "b = copy.deepcopy(a)\n",
    "print ('before')\n",
    "print( id(a) )\n",
    "print( id(b) )\n",
    "b[-1].append(5)\n",
    "print ('after')\n",
    "print( id(a) )\n",
    "print( id(b) )\n",
    "print (a)\n",
    "print (b)"
   ]
  },
  {
   "cell_type": "code",
   "execution_count": 125,
   "metadata": {},
   "outputs": [
    {
     "name": "stdout",
     "output_type": "stream",
     "text": [
      "2\n",
      "[1, 1, 5]\n"
     ]
    }
   ],
   "source": [
    "my_list = [1,1]\n",
    "print ( len(my_list) )\n",
    "my_list.append(5)\n",
    "print (my_list)"
   ]
  },
  {
   "cell_type": "code",
   "execution_count": 130,
   "metadata": {},
   "outputs": [
    {
     "data": {
      "text/plain": [
       "5"
      ]
     },
     "execution_count": 130,
     "metadata": {},
     "output_type": "execute_result"
    }
   ],
   "source": [
    "len(my_list)\n",
    "my_list\n",
    "a = 5\n",
    "a"
   ]
  },
  {
   "cell_type": "code",
   "execution_count": 131,
   "metadata": {},
   "outputs": [
    {
     "data": {
      "text/plain": [
       "True"
      ]
     },
     "execution_count": 131,
     "metadata": {},
     "output_type": "execute_result"
    }
   ],
   "source": [
    "5 in my_list"
   ]
  },
  {
   "cell_type": "code",
   "execution_count": 137,
   "metadata": {},
   "outputs": [
    {
     "name": "stdout",
     "output_type": "stream",
     "text": [
      "[1, 50, 10, 10, 15, 7]\n",
      "[1, 50, 10, 10, 15]\n",
      "[1, 10, 10, 15, 50]\n",
      "2\n"
     ]
    }
   ],
   "source": [
    "combined_list = [ 1,50,10] + [10,15,7]\n",
    "print (combined_list)\n",
    "combined_list.pop()\n",
    "print (combined_list)\n",
    "combined_list.sort()\n",
    "print (combined_list)\n",
    "print (combined_list.count(10) )"
   ]
  },
  {
   "cell_type": "markdown",
   "metadata": {},
   "source": [
    "# Tuple"
   ]
  },
  {
   "cell_type": "code",
   "execution_count": 141,
   "metadata": {},
   "outputs": [
    {
     "name": "stdout",
     "output_type": "stream",
     "text": [
      "hello\n",
      "<class 'tuple'>\n"
     ]
    }
   ],
   "source": [
    "my_tuple = ( 1,2, 'hello' )\n",
    "print (my_tuple[2])\n",
    "print (type(my_tuple) )"
   ]
  },
  {
   "cell_type": "code",
   "execution_count": 140,
   "metadata": {},
   "outputs": [
    {
     "ename": "TypeError",
     "evalue": "'tuple' object does not support item assignment",
     "output_type": "error",
     "traceback": [
      "\u001b[1;31m---------------------------------------------------------------------------\u001b[0m",
      "\u001b[1;31mTypeError\u001b[0m                                 Traceback (most recent call last)",
      "\u001b[1;32mc:\\Users\\Robotux\\Documents\\Python\\20221019VCSPYTB2B\\lesson_3.ipynb Cell 35\u001b[0m in \u001b[0;36m<module>\u001b[1;34m\u001b[0m\n\u001b[1;32m----> <a href='vscode-notebook-cell:/c%3A/Users/Robotux/Documents/Python/20221019VCSPYTB2B/lesson_3.ipynb#X52sZmlsZQ%3D%3D?line=0'>1</a>\u001b[0m my_tuple[\u001b[39m0\u001b[39m] \u001b[39m=\u001b[39m \u001b[39m10\u001b[39m\n",
      "\u001b[1;31mTypeError\u001b[0m: 'tuple' object does not support item assignment"
     ]
    }
   ],
   "source": [
    "my_tuple[0] = 10"
   ]
  },
  {
   "cell_type": "code",
   "execution_count": 143,
   "metadata": {},
   "outputs": [
    {
     "name": "stdout",
     "output_type": "stream",
     "text": [
      "(10, 2, 'hello')\n"
     ]
    }
   ],
   "source": [
    "my_tuple = ( 10,2, 'hello' )\n",
    "print(my_tuple)"
   ]
  },
  {
   "cell_type": "code",
   "execution_count": 145,
   "metadata": {},
   "outputs": [
    {
     "name": "stdout",
     "output_type": "stream",
     "text": [
      "1\n",
      "2\n"
     ]
    }
   ],
   "source": [
    "print (my_tuple.count(10))\n",
    "print (my_tuple.index('hello') )"
   ]
  },
  {
   "cell_type": "code",
   "execution_count": 146,
   "metadata": {},
   "outputs": [
    {
     "ename": "ValueError",
     "evalue": "tuple.index(x): x not in tuple",
     "output_type": "error",
     "traceback": [
      "\u001b[1;31m---------------------------------------------------------------------------\u001b[0m",
      "\u001b[1;31mValueError\u001b[0m                                Traceback (most recent call last)",
      "\u001b[1;32mc:\\Users\\Robotux\\Documents\\Python\\20221019VCSPYTB2B\\lesson_3.ipynb Cell 38\u001b[0m in \u001b[0;36m<module>\u001b[1;34m\u001b[0m\n\u001b[1;32m----> <a href='vscode-notebook-cell:/c%3A/Users/Robotux/Documents/Python/20221019VCSPYTB2B/lesson_3.ipynb#X55sZmlsZQ%3D%3D?line=0'>1</a>\u001b[0m \u001b[39mprint\u001b[39m (my_tuple\u001b[39m.\u001b[39;49mindex(\u001b[39m3\u001b[39;49m) )\n",
      "\u001b[1;31mValueError\u001b[0m: tuple.index(x): x not in tuple"
     ]
    }
   ],
   "source": [
    "print (my_tuple.index(3) )"
   ]
  },
  {
   "cell_type": "code",
   "execution_count": 148,
   "metadata": {},
   "outputs": [
    {
     "name": "stdout",
     "output_type": "stream",
     "text": [
      "3\n",
      "True\n"
     ]
    }
   ],
   "source": [
    "print( len(my_tuple) )\n",
    "print( 'hello' in my_tuple )"
   ]
  },
  {
   "cell_type": "code",
   "execution_count": 154,
   "metadata": {},
   "outputs": [
    {
     "name": "stdout",
     "output_type": "stream",
     "text": [
      "(10, 2, 'hello')\n",
      "[10, 2, 'hello']\n",
      "[52, 2, 'hello']\n",
      "(52, 2, 'hello')\n"
     ]
    }
   ],
   "source": [
    "print (my_tuple)\n",
    "tmp_list = list( my_tuple )\n",
    "print (tmp_list)\n",
    "tmp_list[0] = 52\n",
    "print (tmp_list)\n",
    "my_tuple = tuple( tmp_list )\n",
    "print (my_tuple)"
   ]
  },
  {
   "cell_type": "code",
   "execution_count": null,
   "metadata": {},
   "outputs": [],
   "source": []
  }
 ],
 "metadata": {
  "kernelspec": {
   "display_name": "Python 3.10.2 64-bit",
   "language": "python",
   "name": "python3"
  },
  "language_info": {
   "codemirror_mode": {
    "name": "ipython",
    "version": 3
   },
   "file_extension": ".py",
   "mimetype": "text/x-python",
   "name": "python",
   "nbconvert_exporter": "python",
   "pygments_lexer": "ipython3",
   "version": "3.10.2"
  },
  "orig_nbformat": 4,
  "vscode": {
   "interpreter": {
    "hash": "db50a459ab6695ace3368e8957af3456c8c93e92d9fe6c38987133d01669da40"
   }
  }
 },
 "nbformat": 4,
 "nbformat_minor": 2
}
